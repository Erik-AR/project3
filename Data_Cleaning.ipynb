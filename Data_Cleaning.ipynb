{
 "cells": [
  {
   "cell_type": "code",
   "execution_count": 2,
   "metadata": {},
   "outputs": [
    {
     "name": "stderr",
     "output_type": "stream",
     "text": [
      "Using TensorFlow backend.\n"
     ]
    }
   ],
   "source": [
    "#Import dependencies\n",
    "import numpy as np\n",
    "import pandas as pd\n",
    "from sklearn.model_selection import train_test_split\n",
    "from sklearn.linear_model import LinearRegression\n",
    "from sklearn.metrics import mean_squared_error, r2_score\n",
    "\n",
    "#To perform Hot Encoding\n",
    "from sklearn.preprocessing import StandardScaler, LabelEncoder\n",
    "from keras.utils import to_categorical\n",
    "from keras.models import Sequential\n",
    "from keras.layers import Dense\n",
    "\n",
    "#To trasnform data\n",
    "from datetime import datetime as dt"
   ]
  },
  {
   "cell_type": "code",
   "execution_count": 3,
   "metadata": {},
   "outputs": [
    {
     "name": "stderr",
     "output_type": "stream",
     "text": [
      "/Users/yuh13/anaconda3/envs/PythonData/lib/python3.6/site-packages/IPython/core/interactiveshell.py:2698: DtypeWarning: Columns (1) have mixed types. Specify dtype option on import or set low_memory=False.\n",
      "  interactivity=interactivity, compiler=compiler, result=result)\n"
     ]
    },
    {
     "name": "stdout",
     "output_type": "stream",
     "text": [
      "original shape:  (198768, 39)\n",
      "duplicated rows:  0\n",
      "new shape:  (180314, 39)\n"
     ]
    },
    {
     "data": {
      "text/plain": [
       "RMA Defective Item           83503\n",
       "RMA Replacement Item         74409\n",
       "Defective item for FCO        9660\n",
       "Replacement item for FCO      7717\n",
       "Actual Defective Received     4810\n",
       "Defective Actual for FCO       214\n",
       "RMA Conversion Defective         1\n",
       "Name: RMA Item Transaction Type, dtype: int64"
      ]
     },
     "execution_count": 3,
     "metadata": {},
     "output_type": "execute_result"
    }
   ],
   "source": [
    "#Initial RMA dataframe cleaning (check duplicates, drop NaN for critical fields, and filter for \"RMA Defective Item\")\n",
    "df1 = pd.read_csv('data_proj3.csv')\n",
    "print(\"original shape: \", df1.shape)\n",
    "print(\"duplicated rows: \", df1[df1.duplicated()].shape[0])\n",
    "df1 = df1.dropna(subset = ['RMA Create Date', \"As Built2 Ship Date\"])\n",
    "print(\"new shape: \", df1.shape)\n",
    "df1['RMA Item Transaction Type'].value_counts()"
   ]
  },
  {
   "cell_type": "code",
   "execution_count": 4,
   "metadata": {},
   "outputs": [
    {
     "name": "stdout",
     "output_type": "stream",
     "text": [
      "defectives only shape:  (83503, 39)\n"
     ]
    },
    {
     "data": {
      "text/plain": [
       "IB Material - Key            0\n",
       "Installed At - Key           0\n",
       "Serial Number                0\n",
       "Shipped Day                  0\n",
       "RMA Create Date              0\n",
       "RMA Item Transaction Type    0\n",
       "dtype: int64"
      ]
     },
     "execution_count": 4,
     "metadata": {},
     "output_type": "execute_result"
    }
   ],
   "source": [
    "#Filter for defectives only and re-title for concatenation\n",
    "df1 = df1.loc[df1['RMA Item Transaction Type'] == 'RMA Defective Item']\n",
    "print(\"defectives only shape: \", df1.shape)\n",
    "df1 = df1.rename(columns={\"SR Customer ID\": \"Installed At - Key\", \"Product ID\": \"IB Material - Key\", \"As Built2 Ship Date\": \"Shipped Day\"})\n",
    "df1 = df1[['IB Material - Key', \"Installed At - Key\", 'Serial Number', 'Shipped Day', \"RMA Create Date\", \"RMA Item Transaction Type\"]]\n",
    "df1.isnull().sum()"
   ]
  },
  {
   "cell_type": "code",
   "execution_count": 5,
   "metadata": {},
   "outputs": [
    {
     "name": "stdout",
     "output_type": "stream",
     "text": [
      "original shape:  (1337779, 4)\n",
      "duplicated rows:  12930\n",
      "new shape:  (1324849, 4)\n"
     ]
    },
    {
     "data": {
      "text/plain": [
       "IB Material - Key     0\n",
       "Installed At - Key    0\n",
       "Serial Number         0\n",
       "Shipped Day           0\n",
       "dtype: int64"
      ]
     },
     "execution_count": 5,
     "metadata": {},
     "output_type": "execute_result"
    }
   ],
   "source": [
    "#Initial Install Base(IB) dataframe cleaning (check duplicates, drop NaN for key fields) \n",
    "df2 = pd.read_csv('IB_data_ship_date.csv')\n",
    "print(\"original shape: \", df2.shape)\n",
    "print(\"duplicated rows: \", df2[df2.duplicated()].shape[0])\n",
    "df2 = df2.drop_duplicates()\n",
    "df2 = df2.dropna(subset=['Serial Number'])\n",
    "print(\"new shape: \", df2.shape)\n",
    "df2.isnull().sum()"
   ]
  },
  {
   "cell_type": "code",
   "execution_count": 6,
   "metadata": {},
   "outputs": [
    {
     "data": {
      "text/html": [
       "<div>\n",
       "<style>\n",
       "    .dataframe thead tr:only-child th {\n",
       "        text-align: right;\n",
       "    }\n",
       "\n",
       "    .dataframe thead th {\n",
       "        text-align: left;\n",
       "    }\n",
       "\n",
       "    .dataframe tbody tr th {\n",
       "        vertical-align: top;\n",
       "    }\n",
       "</style>\n",
       "<table border=\"1\" class=\"dataframe\">\n",
       "  <thead>\n",
       "    <tr style=\"text-align: right;\">\n",
       "      <th></th>\n",
       "      <th>IB Material - Key</th>\n",
       "      <th>Installed At - Key</th>\n",
       "      <th>Serial Number</th>\n",
       "      <th>Shipped Day</th>\n",
       "    </tr>\n",
       "  </thead>\n",
       "  <tbody>\n",
       "    <tr>\n",
       "      <th>0</th>\n",
       "      <td>MXMPC4E3D32XGESFPP</td>\n",
       "      <td>100000596</td>\n",
       "      <td>CADX0717</td>\n",
       "      <td>2016-06-24</td>\n",
       "    </tr>\n",
       "    <tr>\n",
       "      <th>1</th>\n",
       "      <td>BT8A78CH2-I02</td>\n",
       "      <td>100053925</td>\n",
       "      <td>HC15180092</td>\n",
       "      <td>2016-06-30</td>\n",
       "    </tr>\n",
       "    <tr>\n",
       "      <th>2</th>\n",
       "      <td>BT8A78CH2-I02</td>\n",
       "      <td>100053925</td>\n",
       "      <td>HC15230332</td>\n",
       "      <td>2016-05-31</td>\n",
       "    </tr>\n",
       "    <tr>\n",
       "      <th>3</th>\n",
       "      <td>QFX5100-96S-AFO</td>\n",
       "      <td>100135543</td>\n",
       "      <td>VB3715300091</td>\n",
       "      <td>2016-06-30</td>\n",
       "    </tr>\n",
       "    <tr>\n",
       "      <th>4</th>\n",
       "      <td>EX4300-48T-AFI</td>\n",
       "      <td>100147020</td>\n",
       "      <td>PE3714140135</td>\n",
       "      <td>2016-11-11</td>\n",
       "    </tr>\n",
       "  </tbody>\n",
       "</table>\n",
       "</div>"
      ],
      "text/plain": [
       "    IB Material - Key Installed At - Key Serial Number Shipped Day\n",
       "0  MXMPC4E3D32XGESFPP          100000596      CADX0717  2016-06-24\n",
       "1       BT8A78CH2-I02          100053925    HC15180092  2016-06-30\n",
       "2       BT8A78CH2-I02          100053925    HC15230332  2016-05-31\n",
       "3     QFX5100-96S-AFO          100135543  VB3715300091  2016-06-30\n",
       "4      EX4300-48T-AFI          100147020  PE3714140135  2016-11-11"
      ]
     },
     "execution_count": 6,
     "metadata": {},
     "output_type": "execute_result"
    }
   ],
   "source": [
    "df2.head()"
   ]
  },
  {
   "cell_type": "code",
   "execution_count": 7,
   "metadata": {},
   "outputs": [
    {
     "name": "stdout",
     "output_type": "stream",
     "text": [
      "Final Shape:  (1408352, 6)\n",
      "IB Material - Key                  0\n",
      "Installed At - Key                 0\n",
      "RMA Create Date              1324849\n",
      "RMA Item Transaction Type    1324849\n",
      "Serial Number                      0\n",
      "Shipped Day                        0\n",
      "dtype: int64\n"
     ]
    }
   ],
   "source": [
    "#Concatenate for full DF\n",
    "df = pd.concat([df1, df2], keys=['IB Material - Key', \"Installed At - Key\", 'Serial Number', 'Shipped Day', \"RMA Item Transaction Type\"])\n",
    "df.reset_index(inplace=True)\n",
    "df = df.drop(['level_0', 'level_1'], axis=1)\n",
    "print(\"Final Shape: \", df.shape)\n",
    "print(df.isnull().sum())"
   ]
  },
  {
   "cell_type": "code",
   "execution_count": 8,
   "metadata": {},
   "outputs": [
    {
     "data": {
      "text/html": [
       "<div>\n",
       "<style>\n",
       "    .dataframe thead tr:only-child th {\n",
       "        text-align: right;\n",
       "    }\n",
       "\n",
       "    .dataframe thead th {\n",
       "        text-align: left;\n",
       "    }\n",
       "\n",
       "    .dataframe tbody tr th {\n",
       "        vertical-align: top;\n",
       "    }\n",
       "</style>\n",
       "<table border=\"1\" class=\"dataframe\">\n",
       "  <thead>\n",
       "    <tr style=\"text-align: right;\">\n",
       "      <th></th>\n",
       "      <th>IB Material - Key</th>\n",
       "      <th>Installed At - Key</th>\n",
       "      <th>RMA Create Date</th>\n",
       "      <th>RMA Item Transaction Type</th>\n",
       "      <th>Serial Number</th>\n",
       "      <th>Shipped Day</th>\n",
       "    </tr>\n",
       "  </thead>\n",
       "  <tbody>\n",
       "    <tr>\n",
       "      <th>0</th>\n",
       "      <td>81Y8237</td>\n",
       "      <td>100034495</td>\n",
       "      <td>3/20/2017</td>\n",
       "      <td>1</td>\n",
       "      <td>233G04B</td>\n",
       "      <td>10/12/2012</td>\n",
       "    </tr>\n",
       "    <tr>\n",
       "      <th>1</th>\n",
       "      <td>81Y8349</td>\n",
       "      <td>101400565</td>\n",
       "      <td>1/31/2018</td>\n",
       "      <td>1</td>\n",
       "      <td>231S01X</td>\n",
       "      <td>7/18/2011</td>\n",
       "    </tr>\n",
       "    <tr>\n",
       "      <th>2</th>\n",
       "      <td>95Y0510</td>\n",
       "      <td>101183390</td>\n",
       "      <td>4/12/2017</td>\n",
       "      <td>1</td>\n",
       "      <td>EM0711427457</td>\n",
       "      <td>10/29/2013</td>\n",
       "    </tr>\n",
       "    <tr>\n",
       "      <th>3</th>\n",
       "      <td>95Y0510</td>\n",
       "      <td>101183390</td>\n",
       "      <td>4/27/2017</td>\n",
       "      <td>1</td>\n",
       "      <td>EM0711427505</td>\n",
       "      <td>12/13/2012</td>\n",
       "    </tr>\n",
       "    <tr>\n",
       "      <th>4</th>\n",
       "      <td>95Y0510</td>\n",
       "      <td>101183390</td>\n",
       "      <td>4/27/2017</td>\n",
       "      <td>1</td>\n",
       "      <td>EM0711427426</td>\n",
       "      <td>12/13/2012</td>\n",
       "    </tr>\n",
       "  </tbody>\n",
       "</table>\n",
       "</div>"
      ],
      "text/plain": [
       "  IB Material - Key Installed At - Key RMA Create Date  \\\n",
       "0           81Y8237          100034495       3/20/2017   \n",
       "1           81Y8349          101400565       1/31/2018   \n",
       "2           95Y0510          101183390       4/12/2017   \n",
       "3           95Y0510          101183390       4/27/2017   \n",
       "4           95Y0510          101183390       4/27/2017   \n",
       "\n",
       "   RMA Item Transaction Type Serial Number Shipped Day  \n",
       "0                          1       233G04B  10/12/2012  \n",
       "1                          1       231S01X   7/18/2011  \n",
       "2                          1  EM0711427457  10/29/2013  \n",
       "3                          1  EM0711427505  12/13/2012  \n",
       "4                          1  EM0711427426  12/13/2012  "
      ]
     },
     "execution_count": 8,
     "metadata": {},
     "output_type": "execute_result"
    }
   ],
   "source": [
    "#Replace non-defective RMA Create Dates with today's date\n",
    "df['RMA Create Date'].fillna(dt.today(), inplace=True)\n",
    "df['RMA Item Transaction Type'].fillna(0, inplace=True)\n",
    "df['RMA Item Transaction Type'].replace(\"RMA Defective Item\", 1, inplace=True)\n",
    "df.head(5)"
   ]
  },
  {
   "cell_type": "code",
   "execution_count": 9,
   "metadata": {},
   "outputs": [],
   "source": [
    "df = df.drop(10837).reset_index(drop=True)"
   ]
  },
  {
   "cell_type": "code",
   "execution_count": 10,
   "metadata": {},
   "outputs": [],
   "source": [
    "### DO NOT RE-RUN... TAKES FOREVER\n",
    "### Results saved in next cell\n",
    "\n",
    "# lifespan = []\n",
    "# for row in df.index:\n",
    "#     print(row, \"of\", len(df.index))\n",
    "#     try:\n",
    "#         life = dt.strptime(df.iloc[row]['RMA Create Date'], '%m/%d/%Y') - dt.strptime(df.iloc[row]['Shipped Day'], '%m/%d/%Y')\n",
    "#         lifespan.append(life.days)\n",
    "#     except TypeError:\n",
    "#         try:\n",
    "#             life = df.iloc[row]['RMA Create Date'] - dt.strptime(df.iloc[row]['Shipped Day'], '%Y-%m-%d')\n",
    "#             lifespan.append(life.days)\n",
    "#         except:\n",
    "#             print(row, \" has error\")\n",
    "#             life = 'NaN'\n",
    "#             lifespan.append(life)\n",
    "#         else: \n",
    "#             pass\n"
   ]
  },
  {
   "cell_type": "code",
   "execution_count": 54,
   "metadata": {
    "scrolled": true
   },
   "outputs": [
    {
     "name": "stderr",
     "output_type": "stream",
     "text": [
      "/Users/yuh13/anaconda3/envs/PythonData/lib/python3.6/site-packages/IPython/core/interactiveshell.py:2698: DtypeWarning: Columns (2) have mixed types. Specify dtype option on import or set low_memory=False.\n",
      "  interactivity=interactivity, compiler=compiler, result=result)\n"
     ]
    }
   ],
   "source": [
    "### Pull CSV\n",
    "df = pd.read_csv('Model_Data.csv')\n",
    "\n",
    "### Previous code to save CSV\n",
    "# df['Lifespan(days)'] = pd.DataFrame(lifespan)\n",
    "# print(\"df shape: \", df.shape)\n",
    "# df = df.rename(columns={'RMA Item Transaction Type': 'Defective'})\n",
    "# df.to_csv('Model_Data.csv')"
   ]
  },
  {
   "cell_type": "code",
   "execution_count": 17,
   "metadata": {
    "scrolled": true
   },
   "outputs": [
    {
     "data": {
      "text/html": [
       "<div>\n",
       "<style>\n",
       "    .dataframe thead tr:only-child th {\n",
       "        text-align: right;\n",
       "    }\n",
       "\n",
       "    .dataframe thead th {\n",
       "        text-align: left;\n",
       "    }\n",
       "\n",
       "    .dataframe tbody tr th {\n",
       "        vertical-align: top;\n",
       "    }\n",
       "</style>\n",
       "<table border=\"1\" class=\"dataframe\">\n",
       "  <thead>\n",
       "    <tr style=\"text-align: right;\">\n",
       "      <th></th>\n",
       "      <th>Unnamed: 0</th>\n",
       "      <th>IB Material - Key</th>\n",
       "      <th>Installed At - Key</th>\n",
       "      <th>RMA Create Date</th>\n",
       "      <th>Defective</th>\n",
       "      <th>Serial Number</th>\n",
       "      <th>Shipped Day</th>\n",
       "      <th>Lifespan(days)</th>\n",
       "    </tr>\n",
       "  </thead>\n",
       "  <tbody>\n",
       "    <tr>\n",
       "      <th>0</th>\n",
       "      <td>0</td>\n",
       "      <td>81Y8237</td>\n",
       "      <td>100034495</td>\n",
       "      <td>3/20/2017</td>\n",
       "      <td>1</td>\n",
       "      <td>233G04B</td>\n",
       "      <td>10/12/2012</td>\n",
       "      <td>1620.0</td>\n",
       "    </tr>\n",
       "    <tr>\n",
       "      <th>1</th>\n",
       "      <td>1</td>\n",
       "      <td>81Y8349</td>\n",
       "      <td>101400565</td>\n",
       "      <td>1/31/2018</td>\n",
       "      <td>1</td>\n",
       "      <td>231S01X</td>\n",
       "      <td>7/18/2011</td>\n",
       "      <td>2389.0</td>\n",
       "    </tr>\n",
       "    <tr>\n",
       "      <th>2</th>\n",
       "      <td>2</td>\n",
       "      <td>95Y0510</td>\n",
       "      <td>101183390</td>\n",
       "      <td>4/12/2017</td>\n",
       "      <td>1</td>\n",
       "      <td>EM0711427457</td>\n",
       "      <td>10/29/2013</td>\n",
       "      <td>1261.0</td>\n",
       "    </tr>\n",
       "    <tr>\n",
       "      <th>3</th>\n",
       "      <td>3</td>\n",
       "      <td>95Y0510</td>\n",
       "      <td>101183390</td>\n",
       "      <td>4/27/2017</td>\n",
       "      <td>1</td>\n",
       "      <td>EM0711427505</td>\n",
       "      <td>12/13/2012</td>\n",
       "      <td>1596.0</td>\n",
       "    </tr>\n",
       "    <tr>\n",
       "      <th>4</th>\n",
       "      <td>4</td>\n",
       "      <td>95Y0510</td>\n",
       "      <td>101183390</td>\n",
       "      <td>4/27/2017</td>\n",
       "      <td>1</td>\n",
       "      <td>EM0711427426</td>\n",
       "      <td>12/13/2012</td>\n",
       "      <td>1596.0</td>\n",
       "    </tr>\n",
       "  </tbody>\n",
       "</table>\n",
       "</div>"
      ],
      "text/plain": [
       "   Unnamed: 0 IB Material - Key Installed At - Key RMA Create Date  Defective  \\\n",
       "0           0           81Y8237          100034495       3/20/2017          1   \n",
       "1           1           81Y8349          101400565       1/31/2018          1   \n",
       "2           2           95Y0510          101183390       4/12/2017          1   \n",
       "3           3           95Y0510          101183390       4/27/2017          1   \n",
       "4           4           95Y0510          101183390       4/27/2017          1   \n",
       "\n",
       "  Serial Number Shipped Day  Lifespan(days)  \n",
       "0       233G04B  10/12/2012          1620.0  \n",
       "1       231S01X   7/18/2011          2389.0  \n",
       "2  EM0711427457  10/29/2013          1261.0  \n",
       "3  EM0711427505  12/13/2012          1596.0  \n",
       "4  EM0711427426  12/13/2012          1596.0  "
      ]
     },
     "execution_count": 17,
     "metadata": {},
     "output_type": "execute_result"
    }
   ],
   "source": [
    "#####----------------- PLAYING -------------"
   ]
  },
  {
   "cell_type": "code",
   "execution_count": null,
   "metadata": {
    "collapsed": true
   },
   "outputs": [],
   "source": [
    "df['IB Material - Key'] = df['IB Material - Key'].astype(str)"
   ]
  },
  {
   "cell_type": "code",
   "execution_count": 48,
   "metadata": {},
   "outputs": [
    {
     "ename": "TypeError",
     "evalue": "'<' not supported between instances of 'int' and 'str'",
     "output_type": "error",
     "traceback": [
      "\u001b[0;31m---------------------------------------------------------------------------\u001b[0m",
      "\u001b[0;31mTypeError\u001b[0m                                 Traceback (most recent call last)",
      "\u001b[0;32m<ipython-input-48-5e097413befc>\u001b[0m in \u001b[0;36m<module>\u001b[0;34m()\u001b[0m\n\u001b[1;32m      1\u001b[0m \u001b[0mproducts\u001b[0m \u001b[0;34m=\u001b[0m \u001b[0mdf\u001b[0m\u001b[0;34m[\u001b[0m\u001b[0;34m'IB Material - Key'\u001b[0m\u001b[0;34m]\u001b[0m\u001b[0;34m.\u001b[0m\u001b[0mvalue_counts\u001b[0m\u001b[0;34m(\u001b[0m\u001b[0;34m)\u001b[0m\u001b[0;34m\u001b[0m\u001b[0m\n\u001b[1;32m      2\u001b[0m \u001b[0mtop_products\u001b[0m \u001b[0;34m=\u001b[0m \u001b[0mproducts\u001b[0m\u001b[0;34m[\u001b[0m\u001b[0;34m:\u001b[0m\u001b[0;36m100\u001b[0m\u001b[0;34m]\u001b[0m\u001b[0;34m.\u001b[0m\u001b[0mtolist\u001b[0m\u001b[0;34m(\u001b[0m\u001b[0;34m)\u001b[0m\u001b[0;34m\u001b[0m\u001b[0m\n\u001b[0;32m----> 3\u001b[0;31m \u001b[0mtop_products_df\u001b[0m \u001b[0;34m=\u001b[0m \u001b[0mdf\u001b[0m\u001b[0;34m.\u001b[0m\u001b[0mloc\u001b[0m\u001b[0;34m[\u001b[0m\u001b[0mdf\u001b[0m\u001b[0;34m[\u001b[0m\u001b[0;34m'IB Material - Key'\u001b[0m\u001b[0;34m]\u001b[0m\u001b[0;34m.\u001b[0m\u001b[0misin\u001b[0m\u001b[0;34m(\u001b[0m\u001b[0mtop_products\u001b[0m\u001b[0;34m)\u001b[0m\u001b[0;34m]\u001b[0m\u001b[0;34m\u001b[0m\u001b[0m\n\u001b[0m\u001b[1;32m      4\u001b[0m \u001b[0;34m\u001b[0m\u001b[0m\n\u001b[1;32m      5\u001b[0m \u001b[0mprint\u001b[0m\u001b[0;34m(\u001b[0m\u001b[0;34m'top products shape: '\u001b[0m\u001b[0;34m,\u001b[0m \u001b[0mtop_products_df\u001b[0m\u001b[0;34m.\u001b[0m\u001b[0mshape\u001b[0m\u001b[0;34m)\u001b[0m\u001b[0;34m\u001b[0m\u001b[0m\n",
      "\u001b[0;32m~/anaconda3/envs/PythonData/lib/python3.6/site-packages/pandas/core/series.py\u001b[0m in \u001b[0;36misin\u001b[0;34m(self, values)\u001b[0m\n\u001b[1;32m   2553\u001b[0m \u001b[0;34m\u001b[0m\u001b[0m\n\u001b[1;32m   2554\u001b[0m         \"\"\"\n\u001b[0;32m-> 2555\u001b[0;31m         \u001b[0mresult\u001b[0m \u001b[0;34m=\u001b[0m \u001b[0malgorithms\u001b[0m\u001b[0;34m.\u001b[0m\u001b[0misin\u001b[0m\u001b[0;34m(\u001b[0m\u001b[0m_values_from_object\u001b[0m\u001b[0;34m(\u001b[0m\u001b[0mself\u001b[0m\u001b[0;34m)\u001b[0m\u001b[0;34m,\u001b[0m \u001b[0mvalues\u001b[0m\u001b[0;34m)\u001b[0m\u001b[0;34m\u001b[0m\u001b[0m\n\u001b[0m\u001b[1;32m   2556\u001b[0m         \u001b[0;32mreturn\u001b[0m \u001b[0mself\u001b[0m\u001b[0;34m.\u001b[0m\u001b[0m_constructor\u001b[0m\u001b[0;34m(\u001b[0m\u001b[0mresult\u001b[0m\u001b[0;34m,\u001b[0m \u001b[0mindex\u001b[0m\u001b[0;34m=\u001b[0m\u001b[0mself\u001b[0m\u001b[0;34m.\u001b[0m\u001b[0mindex\u001b[0m\u001b[0;34m)\u001b[0m\u001b[0;34m.\u001b[0m\u001b[0m__finalize__\u001b[0m\u001b[0;34m(\u001b[0m\u001b[0mself\u001b[0m\u001b[0;34m)\u001b[0m\u001b[0;34m\u001b[0m\u001b[0m\n\u001b[1;32m   2557\u001b[0m \u001b[0;34m\u001b[0m\u001b[0m\n",
      "\u001b[0;32m~/anaconda3/envs/PythonData/lib/python3.6/site-packages/pandas/core/algorithms.py\u001b[0m in \u001b[0;36misin\u001b[0;34m(comps, values)\u001b[0m\n\u001b[1;32m    424\u001b[0m             \u001b[0mcomps\u001b[0m \u001b[0;34m=\u001b[0m \u001b[0mcomps\u001b[0m\u001b[0;34m.\u001b[0m\u001b[0mastype\u001b[0m\u001b[0;34m(\u001b[0m\u001b[0mobject\u001b[0m\u001b[0;34m)\u001b[0m\u001b[0;34m\u001b[0m\u001b[0m\n\u001b[1;32m    425\u001b[0m \u001b[0;34m\u001b[0m\u001b[0m\n\u001b[0;32m--> 426\u001b[0;31m     \u001b[0;32mreturn\u001b[0m \u001b[0mf\u001b[0m\u001b[0;34m(\u001b[0m\u001b[0mcomps\u001b[0m\u001b[0;34m,\u001b[0m \u001b[0mvalues\u001b[0m\u001b[0;34m)\u001b[0m\u001b[0;34m\u001b[0m\u001b[0m\n\u001b[0m\u001b[1;32m    427\u001b[0m \u001b[0;34m\u001b[0m\u001b[0m\n\u001b[1;32m    428\u001b[0m \u001b[0;34m\u001b[0m\u001b[0m\n",
      "\u001b[0;32m~/anaconda3/envs/PythonData/lib/python3.6/site-packages/pandas/core/algorithms.py\u001b[0m in \u001b[0;36m<lambda>\u001b[0;34m(x, y)\u001b[0m\n\u001b[1;32m    404\u001b[0m     \u001b[0mf\u001b[0m \u001b[0;34m=\u001b[0m \u001b[0;32mlambda\u001b[0m \u001b[0mx\u001b[0m\u001b[0;34m,\u001b[0m \u001b[0my\u001b[0m\u001b[0;34m:\u001b[0m \u001b[0mhtable\u001b[0m\u001b[0;34m.\u001b[0m\u001b[0mismember_object\u001b[0m\u001b[0;34m(\u001b[0m\u001b[0mx\u001b[0m\u001b[0;34m,\u001b[0m \u001b[0mvalues\u001b[0m\u001b[0;34m)\u001b[0m\u001b[0;34m\u001b[0m\u001b[0m\n\u001b[1;32m    405\u001b[0m     \u001b[0;32mif\u001b[0m \u001b[0;34m(\u001b[0m\u001b[0m_np_version_under1p8\u001b[0m \u001b[0;32mand\u001b[0m \u001b[0mcompat\u001b[0m\u001b[0;34m.\u001b[0m\u001b[0mPY3\u001b[0m\u001b[0;34m)\u001b[0m \u001b[0;32mor\u001b[0m \u001b[0mlen\u001b[0m\u001b[0;34m(\u001b[0m\u001b[0mcomps\u001b[0m\u001b[0;34m)\u001b[0m \u001b[0;34m>\u001b[0m \u001b[0;36m1000000\u001b[0m\u001b[0;34m:\u001b[0m\u001b[0;34m\u001b[0m\u001b[0m\n\u001b[0;32m--> 406\u001b[0;31m         \u001b[0mf\u001b[0m \u001b[0;34m=\u001b[0m \u001b[0;32mlambda\u001b[0m \u001b[0mx\u001b[0m\u001b[0;34m,\u001b[0m \u001b[0my\u001b[0m\u001b[0;34m:\u001b[0m \u001b[0mnp\u001b[0m\u001b[0;34m.\u001b[0m\u001b[0min1d\u001b[0m\u001b[0;34m(\u001b[0m\u001b[0mx\u001b[0m\u001b[0;34m,\u001b[0m \u001b[0my\u001b[0m\u001b[0;34m)\u001b[0m\u001b[0;34m\u001b[0m\u001b[0m\n\u001b[0m\u001b[1;32m    407\u001b[0m     \u001b[0;32melif\u001b[0m \u001b[0mis_integer_dtype\u001b[0m\u001b[0;34m(\u001b[0m\u001b[0mcomps\u001b[0m\u001b[0;34m)\u001b[0m\u001b[0;34m:\u001b[0m\u001b[0;34m\u001b[0m\u001b[0m\n\u001b[1;32m    408\u001b[0m         \u001b[0;32mtry\u001b[0m\u001b[0;34m:\u001b[0m\u001b[0;34m\u001b[0m\u001b[0m\n",
      "\u001b[0;32m~/anaconda3/envs/PythonData/lib/python3.6/site-packages/numpy/lib/arraysetops.py\u001b[0m in \u001b[0;36min1d\u001b[0;34m(ar1, ar2, assume_unique, invert)\u001b[0m\n\u001b[1;32m    473\u001b[0m     \u001b[0;31m# here. The values from the first array should always come before\u001b[0m\u001b[0;34m\u001b[0m\u001b[0;34m\u001b[0m\u001b[0m\n\u001b[1;32m    474\u001b[0m     \u001b[0;31m# the values from the second array.\u001b[0m\u001b[0;34m\u001b[0m\u001b[0;34m\u001b[0m\u001b[0m\n\u001b[0;32m--> 475\u001b[0;31m     \u001b[0morder\u001b[0m \u001b[0;34m=\u001b[0m \u001b[0mar\u001b[0m\u001b[0;34m.\u001b[0m\u001b[0margsort\u001b[0m\u001b[0;34m(\u001b[0m\u001b[0mkind\u001b[0m\u001b[0;34m=\u001b[0m\u001b[0;34m'mergesort'\u001b[0m\u001b[0;34m)\u001b[0m\u001b[0;34m\u001b[0m\u001b[0m\n\u001b[0m\u001b[1;32m    476\u001b[0m     \u001b[0msar\u001b[0m \u001b[0;34m=\u001b[0m \u001b[0mar\u001b[0m\u001b[0;34m[\u001b[0m\u001b[0morder\u001b[0m\u001b[0;34m]\u001b[0m\u001b[0;34m\u001b[0m\u001b[0m\n\u001b[1;32m    477\u001b[0m     \u001b[0;32mif\u001b[0m \u001b[0minvert\u001b[0m\u001b[0;34m:\u001b[0m\u001b[0;34m\u001b[0m\u001b[0m\n",
      "\u001b[0;31mTypeError\u001b[0m: '<' not supported between instances of 'int' and 'str'"
     ]
    }
   ],
   "source": [
    "products = df['IB Material - Key'].value_counts()\n",
    "top_products = products[:100].tolist()\n",
    "top_products_df = df.loc[df['IB Material - Key'].isin(top_products)]\n",
    "\n",
    "print('top products shape: ', top_products_df.shape)"
   ]
  },
  {
   "cell_type": "code",
   "execution_count": 14,
   "metadata": {},
   "outputs": [
    {
     "name": "stdout",
     "output_type": "stream",
     "text": [
      "[56824, 48426, 43899, 35290, 33918, 31952, 27606, 26499, 23212, 23158, 21944, 20813, 20219, 20158, 18396, 18293, 18230, 18206, 17488, 17101, 16587, 14357, 14086, 12949, 12633, 12238, 11697, 11142, 10855, 10801, 10484, 10375, 10287, 10227, 10200, 10174, 10006, 9850, 9841, 9132, 8958, 8903, 8808, 8629, 8487, 8310, 8171, 8092, 7820, 7787, 7579, 7240, 7229, 7017, 6984, 6945, 6736, 6639, 6509, 6217, 6169, 6138, 5861, 5638, 5506, 5484, 5233, 5222, 5175, 5075, 5031, 5004, 4970, 4808, 4806, 4734, 4727, 4602, 4526, 4331, 4232, 4226, 4172, 3993, 3903, 3881, 3847, 3829, 3632, 3623, 3557, 3436, 3385, 3335, 3280, 3249, 3231, 3151, 3044, 3040]\n"
     ]
    }
   ],
   "source": [
    "print(top_products)"
   ]
  },
  {
   "cell_type": "code",
   "execution_count": null,
   "metadata": {
    "collapsed": true
   },
   "outputs": [],
   "source": []
  },
  {
   "cell_type": "code",
   "execution_count": null,
   "metadata": {
    "collapsed": true
   },
   "outputs": [],
   "source": []
  },
  {
   "cell_type": "code",
   "execution_count": null,
   "metadata": {
    "collapsed": true
   },
   "outputs": [],
   "source": []
  },
  {
   "cell_type": "code",
   "execution_count": null,
   "metadata": {
    "collapsed": true
   },
   "outputs": [],
   "source": []
  },
  {
   "cell_type": "code",
   "execution_count": null,
   "metadata": {
    "collapsed": true
   },
   "outputs": [],
   "source": []
  },
  {
   "cell_type": "code",
   "execution_count": null,
   "metadata": {
    "collapsed": true
   },
   "outputs": [],
   "source": []
  },
  {
   "cell_type": "code",
   "execution_count": 55,
   "metadata": {},
   "outputs": [
    {
     "name": "stdout",
     "output_type": "stream",
     "text": [
      "final dataframe shape:  (1408350, 5)\n"
     ]
    }
   ],
   "source": [
    "df = df.drop(['Serial Number', 'RMA Create Date', 'Shipped Day'], axis=1)\n",
    "df = df.dropna(subset=['Lifespan(days)'])\n",
    "print(\"final dataframe shape: \", df.shape)\n"
   ]
  },
  {
   "cell_type": "code",
   "execution_count": 56,
   "metadata": {},
   "outputs": [
    {
     "name": "stdout",
     "output_type": "stream",
     "text": [
      "dummy shape:  (1408350, 5)\n"
     ]
    },
    {
     "data": {
      "text/html": [
       "<div>\n",
       "<style>\n",
       "    .dataframe thead tr:only-child th {\n",
       "        text-align: right;\n",
       "    }\n",
       "\n",
       "    .dataframe thead th {\n",
       "        text-align: left;\n",
       "    }\n",
       "\n",
       "    .dataframe tbody tr th {\n",
       "        vertical-align: top;\n",
       "    }\n",
       "</style>\n",
       "<table border=\"1\" class=\"dataframe\">\n",
       "  <thead>\n",
       "    <tr style=\"text-align: right;\">\n",
       "      <th></th>\n",
       "      <th>81Y8237</th>\n",
       "      <th>81Y8349</th>\n",
       "      <th>95Y0510</th>\n",
       "      <th>95Y0512</th>\n",
       "      <th>ACX-MIC-16CHE1T1CE</th>\n",
       "      <th>ACX-MIC-6GE-CU-SFP</th>\n",
       "      <th>ACX-MIC4OC31OC12CE</th>\n",
       "      <th>ACX1000-DC</th>\n",
       "      <th>ACX1100-AC</th>\n",
       "      <th>ACX1100-DC</th>\n",
       "      <th>...</th>\n",
       "      <th>XENPAK-1XGE-LR</th>\n",
       "      <th>XENPAK-1XGE-SR</th>\n",
       "      <th>XFP-10G-CBANDT50ZR</th>\n",
       "      <th>XFP-10G-E-OC192IR2</th>\n",
       "      <th>XFP-10G-L-OC192SR1</th>\n",
       "      <th>XFP-10G-S</th>\n",
       "      <th>XFP-10G-Z-OC192LR2</th>\n",
       "      <th>XFP-10GE-LR</th>\n",
       "      <th>XFP-10GE-SR</th>\n",
       "      <th>Lifespan(days)</th>\n",
       "    </tr>\n",
       "  </thead>\n",
       "  <tbody>\n",
       "    <tr>\n",
       "      <th>0</th>\n",
       "      <td>1</td>\n",
       "      <td>0</td>\n",
       "      <td>0</td>\n",
       "      <td>0</td>\n",
       "      <td>0</td>\n",
       "      <td>0</td>\n",
       "      <td>0</td>\n",
       "      <td>0</td>\n",
       "      <td>0</td>\n",
       "      <td>0</td>\n",
       "      <td>...</td>\n",
       "      <td>0</td>\n",
       "      <td>0</td>\n",
       "      <td>0</td>\n",
       "      <td>0</td>\n",
       "      <td>0</td>\n",
       "      <td>0</td>\n",
       "      <td>0</td>\n",
       "      <td>0</td>\n",
       "      <td>0</td>\n",
       "      <td>1620.0</td>\n",
       "    </tr>\n",
       "    <tr>\n",
       "      <th>1</th>\n",
       "      <td>0</td>\n",
       "      <td>1</td>\n",
       "      <td>0</td>\n",
       "      <td>0</td>\n",
       "      <td>0</td>\n",
       "      <td>0</td>\n",
       "      <td>0</td>\n",
       "      <td>0</td>\n",
       "      <td>0</td>\n",
       "      <td>0</td>\n",
       "      <td>...</td>\n",
       "      <td>0</td>\n",
       "      <td>0</td>\n",
       "      <td>0</td>\n",
       "      <td>0</td>\n",
       "      <td>0</td>\n",
       "      <td>0</td>\n",
       "      <td>0</td>\n",
       "      <td>0</td>\n",
       "      <td>0</td>\n",
       "      <td>2389.0</td>\n",
       "    </tr>\n",
       "    <tr>\n",
       "      <th>2</th>\n",
       "      <td>0</td>\n",
       "      <td>0</td>\n",
       "      <td>1</td>\n",
       "      <td>0</td>\n",
       "      <td>0</td>\n",
       "      <td>0</td>\n",
       "      <td>0</td>\n",
       "      <td>0</td>\n",
       "      <td>0</td>\n",
       "      <td>0</td>\n",
       "      <td>...</td>\n",
       "      <td>0</td>\n",
       "      <td>0</td>\n",
       "      <td>0</td>\n",
       "      <td>0</td>\n",
       "      <td>0</td>\n",
       "      <td>0</td>\n",
       "      <td>0</td>\n",
       "      <td>0</td>\n",
       "      <td>0</td>\n",
       "      <td>1261.0</td>\n",
       "    </tr>\n",
       "    <tr>\n",
       "      <th>3</th>\n",
       "      <td>0</td>\n",
       "      <td>0</td>\n",
       "      <td>1</td>\n",
       "      <td>0</td>\n",
       "      <td>0</td>\n",
       "      <td>0</td>\n",
       "      <td>0</td>\n",
       "      <td>0</td>\n",
       "      <td>0</td>\n",
       "      <td>0</td>\n",
       "      <td>...</td>\n",
       "      <td>0</td>\n",
       "      <td>0</td>\n",
       "      <td>0</td>\n",
       "      <td>0</td>\n",
       "      <td>0</td>\n",
       "      <td>0</td>\n",
       "      <td>0</td>\n",
       "      <td>0</td>\n",
       "      <td>0</td>\n",
       "      <td>1596.0</td>\n",
       "    </tr>\n",
       "    <tr>\n",
       "      <th>4</th>\n",
       "      <td>0</td>\n",
       "      <td>0</td>\n",
       "      <td>1</td>\n",
       "      <td>0</td>\n",
       "      <td>0</td>\n",
       "      <td>0</td>\n",
       "      <td>0</td>\n",
       "      <td>0</td>\n",
       "      <td>0</td>\n",
       "      <td>0</td>\n",
       "      <td>...</td>\n",
       "      <td>0</td>\n",
       "      <td>0</td>\n",
       "      <td>0</td>\n",
       "      <td>0</td>\n",
       "      <td>0</td>\n",
       "      <td>0</td>\n",
       "      <td>0</td>\n",
       "      <td>0</td>\n",
       "      <td>0</td>\n",
       "      <td>1596.0</td>\n",
       "    </tr>\n",
       "  </tbody>\n",
       "</table>\n",
       "<p>5 rows × 2353 columns</p>\n",
       "</div>"
      ],
      "text/plain": [
       "   81Y8237  81Y8349  95Y0510  95Y0512  ACX-MIC-16CHE1T1CE  ACX-MIC-6GE-CU-SFP  \\\n",
       "0        1        0        0        0                   0                   0   \n",
       "1        0        1        0        0                   0                   0   \n",
       "2        0        0        1        0                   0                   0   \n",
       "3        0        0        1        0                   0                   0   \n",
       "4        0        0        1        0                   0                   0   \n",
       "\n",
       "   ACX-MIC4OC31OC12CE  ACX1000-DC  ACX1100-AC  ACX1100-DC       ...        \\\n",
       "0                   0           0           0           0       ...         \n",
       "1                   0           0           0           0       ...         \n",
       "2                   0           0           0           0       ...         \n",
       "3                   0           0           0           0       ...         \n",
       "4                   0           0           0           0       ...         \n",
       "\n",
       "   XENPAK-1XGE-LR  XENPAK-1XGE-SR  XFP-10G-CBANDT50ZR  XFP-10G-E-OC192IR2  \\\n",
       "0               0               0                   0                   0   \n",
       "1               0               0                   0                   0   \n",
       "2               0               0                   0                   0   \n",
       "3               0               0                   0                   0   \n",
       "4               0               0                   0                   0   \n",
       "\n",
       "   XFP-10G-L-OC192SR1  XFP-10G-S  XFP-10G-Z-OC192LR2  XFP-10GE-LR  \\\n",
       "0                   0          0                   0            0   \n",
       "1                   0          0                   0            0   \n",
       "2                   0          0                   0            0   \n",
       "3                   0          0                   0            0   \n",
       "4                   0          0                   0            0   \n",
       "\n",
       "   XFP-10GE-SR  Lifespan(days)  \n",
       "0            0          1620.0  \n",
       "1            0          2389.0  \n",
       "2            0          1261.0  \n",
       "3            0          1596.0  \n",
       "4            0          1596.0  \n",
       "\n",
       "[5 rows x 2353 columns]"
      ]
     },
     "execution_count": 56,
     "metadata": {},
     "output_type": "execute_result"
    }
   ],
   "source": [
    "model_df = pd.get_dummies(df['IB Material - Key'], sparse=True)\n",
    "model_df['Lifespan(days)'] = df['Lifespan(days)']\n",
    "print(\"dummy shape: \", df.shape)\n",
    "model_df.head()"
   ]
  },
  {
   "cell_type": "code",
   "execution_count": 57,
   "metadata": {},
   "outputs": [],
   "source": [
    "y = df['Defective']\n",
    "X = model_df"
   ]
  },
  {
   "cell_type": "code",
   "execution_count": null,
   "metadata": {
    "collapsed": true
   },
   "outputs": [],
   "source": [
    "X_train, X_test, y_train, y_test = train_test_split(X, y, random_state=13)\n",
    "model = LinearRegression()\n",
    "model.fit(X_train, y_train)"
   ]
  },
  {
   "cell_type": "code",
   "execution_count": null,
   "metadata": {
    "scrolled": true
   },
   "outputs": [],
   "source": [
    "training_score = model.score(X_train, y_train)\n",
    "testing_score = model.score(X_test, y_test)\n",
    "\n",
    "print(f\"Training Score: {training_score}\")\n",
    "print(f\"Testing Score: {testing_score}\")"
   ]
  },
  {
   "cell_type": "code",
   "execution_count": 47,
   "metadata": {},
   "outputs": [
    {
     "name": "stdout",
     "output_type": "stream",
     "text": [
      "Unique clients:  66511\n",
      "Unique products:  2352\n"
     ]
    }
   ],
   "source": [
    "print(\"Unique clients: \", df['Installed At - Key'].nunique())\n",
    "print(\"Unique products: \", df['IB Material - Key'].nunique())"
   ]
  },
  {
   "cell_type": "code",
   "execution_count": 20,
   "metadata": {},
   "outputs": [
    {
     "data": {
      "text/html": [
       "<div>\n",
       "<style>\n",
       "    .dataframe thead tr:only-child th {\n",
       "        text-align: right;\n",
       "    }\n",
       "\n",
       "    .dataframe thead th {\n",
       "        text-align: left;\n",
       "    }\n",
       "\n",
       "    .dataframe tbody tr th {\n",
       "        vertical-align: top;\n",
       "    }\n",
       "</style>\n",
       "<table border=\"1\" class=\"dataframe\">\n",
       "  <thead>\n",
       "    <tr style=\"text-align: right;\">\n",
       "      <th></th>\n",
       "      <th>Unnamed: 0</th>\n",
       "      <th>IB Material - Key</th>\n",
       "      <th>Installed At - Key</th>\n",
       "      <th>Defective</th>\n",
       "      <th>Lifespan(days)</th>\n",
       "    </tr>\n",
       "  </thead>\n",
       "  <tbody>\n",
       "    <tr>\n",
       "      <th>0</th>\n",
       "      <td>0</td>\n",
       "      <td>81Y8237</td>\n",
       "      <td>100034495</td>\n",
       "      <td>1</td>\n",
       "      <td>1620.0</td>\n",
       "    </tr>\n",
       "    <tr>\n",
       "      <th>1</th>\n",
       "      <td>1</td>\n",
       "      <td>81Y8349</td>\n",
       "      <td>101400565</td>\n",
       "      <td>1</td>\n",
       "      <td>2389.0</td>\n",
       "    </tr>\n",
       "    <tr>\n",
       "      <th>2</th>\n",
       "      <td>2</td>\n",
       "      <td>95Y0510</td>\n",
       "      <td>101183390</td>\n",
       "      <td>1</td>\n",
       "      <td>1261.0</td>\n",
       "    </tr>\n",
       "    <tr>\n",
       "      <th>3</th>\n",
       "      <td>3</td>\n",
       "      <td>95Y0510</td>\n",
       "      <td>101183390</td>\n",
       "      <td>1</td>\n",
       "      <td>1596.0</td>\n",
       "    </tr>\n",
       "    <tr>\n",
       "      <th>4</th>\n",
       "      <td>4</td>\n",
       "      <td>95Y0510</td>\n",
       "      <td>101183390</td>\n",
       "      <td>1</td>\n",
       "      <td>1596.0</td>\n",
       "    </tr>\n",
       "  </tbody>\n",
       "</table>\n",
       "</div>"
      ],
      "text/plain": [
       "   Unnamed: 0 IB Material - Key Installed At - Key  Defective  Lifespan(days)\n",
       "0           0           81Y8237          100034495          1          1620.0\n",
       "1           1           81Y8349          101400565          1          2389.0\n",
       "2           2           95Y0510          101183390          1          1261.0\n",
       "3           3           95Y0510          101183390          1          1596.0\n",
       "4           4           95Y0510          101183390          1          1596.0"
      ]
     },
     "execution_count": 20,
     "metadata": {},
     "output_type": "execute_result"
    }
   ],
   "source": [
    "df.head(5)"
   ]
  },
  {
   "cell_type": "code",
   "execution_count": 29,
   "metadata": {},
   "outputs": [
    {
     "name": "stdout",
     "output_type": "stream",
     "text": [
      "(1408350, 1) (1408350, 1)\n"
     ]
    },
    {
     "name": "stderr",
     "output_type": "stream",
     "text": [
      "/Users/yuh13/anaconda3/envs/PythonData/lib/python3.6/site-packages/ipykernel_launcher.py:1: FutureWarning: reshape is deprecated and will raise in a subsequent release. Please use .values.reshape(...) instead\n",
      "  \"\"\"Entry point for launching an IPython kernel.\n",
      "/Users/yuh13/anaconda3/envs/PythonData/lib/python3.6/site-packages/ipykernel_launcher.py:2: FutureWarning: reshape is deprecated and will raise in a subsequent release. Please use .values.reshape(...) instead\n",
      "  \n"
     ]
    }
   ],
   "source": [
    "y = df['Defective'].reshape(-1,1)\n",
    "X = df['Lifespan(days)'].reshape(-1,1)\n",
    "print(y.shape, X.shape)"
   ]
  },
  {
   "cell_type": "code",
   "execution_count": 30,
   "metadata": {},
   "outputs": [
    {
     "data": {
      "text/plain": [
       "LinearRegression(copy_X=True, fit_intercept=True, n_jobs=1, normalize=False)"
      ]
     },
     "execution_count": 30,
     "metadata": {},
     "output_type": "execute_result"
    }
   ],
   "source": [
    "X_train, X_test, y_train, y_test = train_test_split(X, y, random_state=13)\n",
    "model = LinearRegression()\n",
    "model.fit(X_train, y_train)"
   ]
  },
  {
   "cell_type": "code",
   "execution_count": 31,
   "metadata": {},
   "outputs": [
    {
     "name": "stdout",
     "output_type": "stream",
     "text": [
      "Training Score: 0.24006505660854827\n",
      "Testing Score: 0.23676432407084225\n"
     ]
    }
   ],
   "source": [
    "training_score = model.score(X_train, y_train)\n",
    "testing_score = model.score(X_test, y_test)\n",
    "\n",
    "print(f\"Training Score: {training_score}\")\n",
    "print(f\"Testing Score: {testing_score}\")"
   ]
  },
  {
   "cell_type": "code",
   "execution_count": 32,
   "metadata": {},
   "outputs": [
    {
     "name": "stdout",
     "output_type": "stream",
     "text": [
      "Object `%mprun` not found.\n",
      "Object `%memit` not found.\n"
     ]
    }
   ],
   "source": []
  },
  {
   "cell_type": "code",
   "execution_count": null,
   "metadata": {
    "collapsed": true
   },
   "outputs": [],
   "source": []
  }
 ],
 "metadata": {
  "kernelspec": {
   "display_name": "Python 3",
   "language": "python",
   "name": "python3"
  },
  "language_info": {
   "codemirror_mode": {
    "name": "ipython",
    "version": 3
   },
   "file_extension": ".py",
   "mimetype": "text/x-python",
   "name": "python",
   "nbconvert_exporter": "python",
   "pygments_lexer": "ipython3",
   "version": "3.6.3"
  }
 },
 "nbformat": 4,
 "nbformat_minor": 2
}
