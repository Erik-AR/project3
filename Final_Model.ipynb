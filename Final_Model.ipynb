{
 "cells": [
  {
   "cell_type": "code",
   "execution_count": 277,
   "metadata": {},
   "outputs": [],
   "source": [
    "# Import dependencies\n",
    "import numpy as np\n",
    "import pandas as pd\n",
    "from sklearn.model_selection import train_test_split\n",
    "from sklearn.linear_model import LinearRegression\n",
    "from sklearn.metrics import mean_squared_error, r2_score\n",
    "from sklearn import random_projection\n",
    "\n",
    "# To perform Hot Encoding\n",
    "from sklearn.preprocessing import StandardScaler, LabelEncoder\n",
    "from keras.utils import to_categorical\n",
    "from keras.models import Sequential, load_model\n",
    "from keras.layers import Dense\n",
    "\n",
    "# To transform data\n",
    "from datetime import datetime as dt\n",
    "\n",
    "# To save transformer\n",
    "import pickle"
   ]
  },
  {
   "cell_type": "code",
   "execution_count": 6,
   "metadata": {},
   "outputs": [
    {
     "name": "stderr",
     "output_type": "stream",
     "text": [
      "/Users/yuh13/anaconda3/envs/PythonData/lib/python3.6/site-packages/IPython/core/interactiveshell.py:2698: DtypeWarning: Columns (2) have mixed types. Specify dtype option on import or set low_memory=False.\n",
      "  interactivity=interactivity, compiler=compiler, result=result)\n"
     ]
    },
    {
     "data": {
      "text/html": [
       "<div>\n",
       "<style>\n",
       "    .dataframe thead tr:only-child th {\n",
       "        text-align: right;\n",
       "    }\n",
       "\n",
       "    .dataframe thead th {\n",
       "        text-align: left;\n",
       "    }\n",
       "\n",
       "    .dataframe tbody tr th {\n",
       "        vertical-align: top;\n",
       "    }\n",
       "</style>\n",
       "<table border=\"1\" class=\"dataframe\">\n",
       "  <thead>\n",
       "    <tr style=\"text-align: right;\">\n",
       "      <th></th>\n",
       "      <th>Unnamed: 0</th>\n",
       "      <th>IB Material - Key</th>\n",
       "      <th>Installed At - Key</th>\n",
       "      <th>RMA Create Date</th>\n",
       "      <th>Defective</th>\n",
       "      <th>Serial Number</th>\n",
       "      <th>Shipped Day</th>\n",
       "      <th>Lifespan(days)</th>\n",
       "    </tr>\n",
       "  </thead>\n",
       "  <tbody>\n",
       "    <tr>\n",
       "      <th>0</th>\n",
       "      <td>0</td>\n",
       "      <td>81Y8237</td>\n",
       "      <td>100034495</td>\n",
       "      <td>3/20/2017</td>\n",
       "      <td>1</td>\n",
       "      <td>233G04B</td>\n",
       "      <td>10/12/2012</td>\n",
       "      <td>1620.0</td>\n",
       "    </tr>\n",
       "    <tr>\n",
       "      <th>1</th>\n",
       "      <td>1</td>\n",
       "      <td>81Y8349</td>\n",
       "      <td>101400565</td>\n",
       "      <td>1/31/2018</td>\n",
       "      <td>1</td>\n",
       "      <td>231S01X</td>\n",
       "      <td>7/18/2011</td>\n",
       "      <td>2389.0</td>\n",
       "    </tr>\n",
       "    <tr>\n",
       "      <th>2</th>\n",
       "      <td>2</td>\n",
       "      <td>95Y0510</td>\n",
       "      <td>101183390</td>\n",
       "      <td>4/12/2017</td>\n",
       "      <td>1</td>\n",
       "      <td>EM0711427457</td>\n",
       "      <td>10/29/2013</td>\n",
       "      <td>1261.0</td>\n",
       "    </tr>\n",
       "    <tr>\n",
       "      <th>3</th>\n",
       "      <td>3</td>\n",
       "      <td>95Y0510</td>\n",
       "      <td>101183390</td>\n",
       "      <td>4/27/2017</td>\n",
       "      <td>1</td>\n",
       "      <td>EM0711427505</td>\n",
       "      <td>12/13/2012</td>\n",
       "      <td>1596.0</td>\n",
       "    </tr>\n",
       "    <tr>\n",
       "      <th>4</th>\n",
       "      <td>4</td>\n",
       "      <td>95Y0510</td>\n",
       "      <td>101183390</td>\n",
       "      <td>4/27/2017</td>\n",
       "      <td>1</td>\n",
       "      <td>EM0711427426</td>\n",
       "      <td>12/13/2012</td>\n",
       "      <td>1596.0</td>\n",
       "    </tr>\n",
       "  </tbody>\n",
       "</table>\n",
       "</div>"
      ],
      "text/plain": [
       "   Unnamed: 0 IB Material - Key Installed At - Key RMA Create Date  Defective  \\\n",
       "0           0           81Y8237          100034495       3/20/2017          1   \n",
       "1           1           81Y8349          101400565       1/31/2018          1   \n",
       "2           2           95Y0510          101183390       4/12/2017          1   \n",
       "3           3           95Y0510          101183390       4/27/2017          1   \n",
       "4           4           95Y0510          101183390       4/27/2017          1   \n",
       "\n",
       "  Serial Number Shipped Day  Lifespan(days)  \n",
       "0       233G04B  10/12/2012          1620.0  \n",
       "1       231S01X   7/18/2011          2389.0  \n",
       "2  EM0711427457  10/29/2013          1261.0  \n",
       "3  EM0711427505  12/13/2012          1596.0  \n",
       "4  EM0711427426  12/13/2012          1596.0  "
      ]
     },
     "execution_count": 6,
     "metadata": {},
     "output_type": "execute_result"
    }
   ],
   "source": [
    "# Read in cleaned and transformed dataset\n",
    "df = pd.read_csv('Model_Data.csv')\n",
    "df.head(5)\n"
   ]
  },
  {
   "cell_type": "code",
   "execution_count": 297,
   "metadata": {},
   "outputs": [
    {
     "data": {
      "text/plain": [
       "SRX300-JSB            56824\n",
       "EX4300-48P            48426\n",
       "QFX-JSL-EDGE-ADV1     43899\n",
       "EX3300-48P            35290\n",
       "EX2200-24P-4G         33918\n",
       "EX2200-48P-4G         31952\n",
       "SRX110H2-VA           27606\n",
       "EX2200-24T-4G         26499\n",
       "SRX340-JSB            23212\n",
       "EX4300-48T            23158\n",
       "EX3300-24P            21944\n",
       "EX3400-48P            20813\n",
       "EX3300-24T            20219\n",
       "SRX320-JSB            20158\n",
       "SRX220H2              18396\n",
       "SRX100H2              18293\n",
       "EX2200-C-12P-2G       18230\n",
       "SRX300-JSB-L          18206\n",
       "EX3300-48T            17488\n",
       "EX2200-C-12T-2G       17101\n",
       "EX2200-48T-4G         16587\n",
       "MPC-3D-16XGE-SFPP     14356\n",
       "QFX5100-48S-3AFO      14086\n",
       "QFX5100-24Q-3AFO      12949\n",
       "ACX2200-DC            12633\n",
       "EX2300-24T            12238\n",
       "EX4300-24T            11697\n",
       "ACX5K-L-1X10GE-S      11142\n",
       "SRX345-JSB            10855\n",
       "EX2300-48P            10801\n",
       "                      ...  \n",
       "FE-8_I/O                  1\n",
       "PWR-M120-DC-R             1\n",
       "M7I-FEB-SVC-MS-E-S        1\n",
       "MX2K-PDM-OP-DC-BB         1\n",
       "BP3AM4CL-01               1\n",
       "WXC-2600-A                1\n",
       "FC9686MX01                1\n",
       "CB-TX-R                   1\n",
       "JSA7800-BSE               1\n",
       "SSG-5-SH-W-E              1\n",
       "PB-4FE-TX                 1\n",
       "PB-1GE-SFP-QPP            1\n",
       "ERX-2GE-IOA               1\n",
       "FAN-T-FTOP-BB             1\n",
       "FC9686MS01                1\n",
       "CTP150-IM-T1E1            1\n",
       "PDU-PTX-AC-W-R            1\n",
       "JNP10008-FAN-BB           1\n",
       "RE-MX2000-1800X4-R        1\n",
       "MTP-4LC-S3M               1\n",
       "J5500-T-A-EP-2500E        1\n",
       "MX240-SERVPREM3-AC        1\n",
       "BT8A78CAP1                1\n",
       "BT7A39AP                  1\n",
       "PTX1000-18Q-AC            1\n",
       "JNP-QSFP-100G-PSM4        1\n",
       "JNP10008-CHAS-BB          1\n",
       "ERX-GIGESFP-IOA           1\n",
       "SRX5800-HPWR-DC-R         1\n",
       "RE-400-768-R              1\n",
       "Name: IB Material - Key, Length: 2352, dtype: int64"
      ]
     },
     "execution_count": 297,
     "metadata": {},
     "output_type": "execute_result"
    }
   ],
   "source": [
    "df['IB Material - Key'].value_counts()"
   ]
  },
  {
   "cell_type": "code",
   "execution_count": 7,
   "metadata": {},
   "outputs": [
    {
     "name": "stdout",
     "output_type": "stream",
     "text": [
      "final dataframe shape:  (1408350, 5)\n"
     ]
    }
   ],
   "source": [
    "# Drop unnecessary columns and drop NaN for critical columns\n",
    "df = df.drop(['Serial Number', 'RMA Create Date', 'Shipped Day'], axis=1)\n",
    "df = df.dropna(subset=['Lifespan(days)'])\n",
    "print(\"final dataframe shape: \", df.shape)\n"
   ]
  },
  {
   "cell_type": "code",
   "execution_count": 8,
   "metadata": {},
   "outputs": [
    {
     "name": "stdout",
     "output_type": "stream",
     "text": [
      "dummy shape:  (1408350, 2353)\n"
     ]
    }
   ],
   "source": [
    "# Generate dummy columns for Product ID (IB Material - Key)\n",
    "model_df = pd.get_dummies(df['IB Material - Key'], sparse=True)\n",
    "model_df['Lifespan(days)'] = df['Lifespan(days)']\n",
    "print(\"dummy shape: \", model_df.shape)"
   ]
  },
  {
   "cell_type": "code",
   "execution_count": null,
   "metadata": {
    "collapsed": true
   },
   "outputs": [],
   "source": [
    "#############################################################################################################"
   ]
  },
  {
   "cell_type": "code",
   "execution_count": 12,
   "metadata": {
    "collapsed": true
   },
   "outputs": [],
   "source": [
    "# Create transformer to reduce dimensions of the dummy variables\n",
    "transformer = random_projection.GaussianRandomProjection(n_components=100)"
   ]
  },
  {
   "cell_type": "code",
   "execution_count": 13,
   "metadata": {},
   "outputs": [],
   "source": [
    "# Transform input values and set up X and y for train,test,split\n",
    "X_new = transformer.fit_transform(model_df)\n",
    "y = df['Defective']"
   ]
  },
  {
   "cell_type": "code",
   "execution_count": 16,
   "metadata": {},
   "outputs": [
    {
     "data": {
      "text/plain": [
       "LinearRegression(copy_X=True, fit_intercept=True, n_jobs=1, normalize=False)"
      ]
     },
     "execution_count": 16,
     "metadata": {},
     "output_type": "execute_result"
    }
   ],
   "source": [
    "# Train, Test, Split\n",
    "X_train, X_test, y_train, y_test = train_test_split(X_new, y, random_state=13)"
   ]
  },
  {
   "cell_type": "code",
   "execution_count": 35,
   "metadata": {},
   "outputs": [
    {
     "name": "stdout",
     "output_type": "stream",
     "text": [
      "_________________________________________________________________\n",
      "Layer (type)                 Output Shape              Param #   \n",
      "=================================================================\n",
      "dense_11 (Dense)             (None, 4)                 404       \n",
      "_________________________________________________________________\n",
      "dense_12 (Dense)             (None, 100)               500       \n",
      "_________________________________________________________________\n",
      "dense_13 (Dense)             (None, 2)                 202       \n",
      "=================================================================\n",
      "Total params: 1,106\n",
      "Trainable params: 1,106\n",
      "Non-trainable params: 0\n",
      "_________________________________________________________________\n"
     ]
    }
   ],
   "source": [
    "# Create neural net\n",
    "model_2 = Sequential()\n",
    "number_inputs = 100\n",
    "number_hidden_nodes = 4\n",
    "number_classes = 2 \n",
    "model_2.add(Dense(units=number_hidden_nodes, activation='relu', input_dim=number_inputs))\n",
    "model_2.add(Dense(units=100, activation='relu'))\n",
    "model_2.add(Dense(units=number_classes, activation='softmax'))\n",
    "model_2.summary()"
   ]
  },
  {
   "cell_type": "code",
   "execution_count": 38,
   "metadata": {},
   "outputs": [],
   "source": [
    "# Compile the model\n",
    "model_2.compile(optimizer='adam',\n",
    "             loss = 'sparse_categorical_crossentropy',\n",
    "             metrics=['accuracy'])"
   ]
  },
  {
   "cell_type": "code",
   "execution_count": 39,
   "metadata": {},
   "outputs": [
    {
     "name": "stdout",
     "output_type": "stream",
     "text": [
      "Epoch 1/60\n",
      " - 28s - loss: 0.1379 - acc: 0.9686\n",
      "Epoch 2/60\n",
      " - 27s - loss: 0.1279 - acc: 0.9709\n",
      "Epoch 3/60\n",
      " - 28s - loss: 0.1258 - acc: 0.9715\n",
      "Epoch 4/60\n",
      " - 27s - loss: 0.1250 - acc: 0.9717\n",
      "Epoch 5/60\n",
      " - 28s - loss: 0.1246 - acc: 0.9718\n",
      "Epoch 6/60\n",
      " - 29s - loss: 0.1244 - acc: 0.9719\n",
      "Epoch 7/60\n",
      " - 29s - loss: 0.1240 - acc: 0.9720\n",
      "Epoch 8/60\n",
      " - 27s - loss: 0.1241 - acc: 0.9720\n",
      "Epoch 9/60\n",
      " - 26s - loss: 0.1236 - acc: 0.9721\n",
      "Epoch 10/60\n",
      " - 27s - loss: 0.1238 - acc: 0.9721\n",
      "Epoch 11/60\n",
      " - 27s - loss: 0.1233 - acc: 0.9723\n",
      "Epoch 12/60\n",
      " - 27s - loss: 0.1232 - acc: 0.9723\n",
      "Epoch 13/60\n",
      " - 27s - loss: 0.1231 - acc: 0.9723\n",
      "Epoch 14/60\n",
      " - 27s - loss: 0.1228 - acc: 0.9724\n",
      "Epoch 15/60\n",
      " - 29s - loss: 0.1229 - acc: 0.9724\n",
      "Epoch 16/60\n",
      " - 31s - loss: 0.1226 - acc: 0.9725\n",
      "Epoch 17/60\n",
      " - 29s - loss: 0.1229 - acc: 0.9724\n",
      "Epoch 18/60\n",
      " - 27s - loss: 0.1224 - acc: 0.9726\n",
      "Epoch 19/60\n",
      " - 27s - loss: 0.1221 - acc: 0.9726\n",
      "Epoch 20/60\n",
      " - 27s - loss: 0.1221 - acc: 0.9727\n",
      "Epoch 21/60\n",
      " - 28s - loss: 0.1219 - acc: 0.9727\n",
      "Epoch 22/60\n",
      " - 27s - loss: 0.1220 - acc: 0.9727\n",
      "Epoch 23/60\n",
      " - 28s - loss: 0.1220 - acc: 0.9727\n",
      "Epoch 24/60\n",
      " - 28s - loss: 0.1218 - acc: 0.9728\n",
      "Epoch 25/60\n",
      " - 28s - loss: 0.1217 - acc: 0.9728\n",
      "Epoch 26/60\n",
      " - 28s - loss: 0.1219 - acc: 0.9727\n",
      "Epoch 27/60\n",
      " - 29s - loss: 0.1215 - acc: 0.9729\n",
      "Epoch 28/60\n",
      " - 29s - loss: 0.1215 - acc: 0.9729\n",
      "Epoch 29/60\n",
      " - 28s - loss: 0.1217 - acc: 0.9728\n",
      "Epoch 30/60\n",
      " - 28s - loss: 0.1217 - acc: 0.9728\n",
      "Epoch 31/60\n",
      " - 27s - loss: 0.1214 - acc: 0.9729\n",
      "Epoch 32/60\n",
      " - 29s - loss: 0.1215 - acc: 0.9729\n",
      "Epoch 33/60\n",
      " - 28s - loss: 0.1216 - acc: 0.9728\n",
      "Epoch 34/60\n",
      " - 29s - loss: 0.1214 - acc: 0.9729\n",
      "Epoch 35/60\n",
      " - 28s - loss: 0.1213 - acc: 0.9729\n",
      "Epoch 36/60\n",
      " - 28s - loss: 0.1214 - acc: 0.9729\n",
      "Epoch 37/60\n",
      " - 28s - loss: 0.1212 - acc: 0.9730\n",
      "Epoch 38/60\n",
      " - 27s - loss: 0.1213 - acc: 0.9730\n",
      "Epoch 39/60\n",
      " - 27s - loss: 0.1212 - acc: 0.9730\n",
      "Epoch 40/60\n",
      " - 28s - loss: 0.1209 - acc: 0.9730\n",
      "Epoch 41/60\n",
      " - 28s - loss: 0.1211 - acc: 0.9730\n",
      "Epoch 42/60\n",
      " - 28s - loss: 0.1210 - acc: 0.9731\n",
      "Epoch 43/60\n",
      " - 28s - loss: 0.1212 - acc: 0.9730\n",
      "Epoch 44/60\n",
      " - 27s - loss: 0.1209 - acc: 0.9731\n",
      "Epoch 45/60\n",
      " - 28s - loss: 0.1209 - acc: 0.9731\n",
      "Epoch 46/60\n",
      " - 27s - loss: 0.1208 - acc: 0.9731\n",
      "Epoch 47/60\n",
      " - 27s - loss: 0.1209 - acc: 0.9731\n",
      "Epoch 48/60\n",
      " - 28s - loss: 0.1209 - acc: 0.9730\n",
      "Epoch 49/60\n",
      " - 27s - loss: 0.1209 - acc: 0.9731\n",
      "Epoch 50/60\n",
      " - 28s - loss: 0.1208 - acc: 0.9731\n",
      "Epoch 51/60\n",
      " - 28s - loss: 0.1207 - acc: 0.9731\n",
      "Epoch 52/60\n",
      " - 28s - loss: 0.1208 - acc: 0.9731\n",
      "Epoch 53/60\n",
      " - 27s - loss: 0.1207 - acc: 0.9732\n",
      "Epoch 54/60\n",
      " - 26s - loss: 0.1207 - acc: 0.9732\n",
      "Epoch 55/60\n",
      " - 27s - loss: 0.1207 - acc: 0.9731\n",
      "Epoch 56/60\n",
      " - 28s - loss: 0.1205 - acc: 0.9732\n",
      "Epoch 57/60\n",
      " - 28s - loss: 0.1208 - acc: 0.9731\n",
      "Epoch 58/60\n",
      " - 28s - loss: 0.1206 - acc: 0.9732\n",
      "Epoch 59/60\n",
      " - 28s - loss: 0.1207 - acc: 0.9731\n",
      "Epoch 60/60\n",
      " - 27s - loss: 0.1205 - acc: 0.9732\n"
     ]
    },
    {
     "data": {
      "text/plain": [
       "<keras.callbacks.History at 0x1a3f137160>"
      ]
     },
     "execution_count": 39,
     "metadata": {},
     "output_type": "execute_result"
    }
   ],
   "source": [
    "# Fit model with training data\n",
    "### DO NOT RE-RUN ###\n",
    "# model_2.fit(X_train,\n",
    "#          y_train,\n",
    "#          epochs=60,\n",
    "#          shuffle=True,\n",
    "#          verbose=2)\n",
    "model_2 = load_model(\"RMA_Model.h5\")"
   ]
  },
  {
   "cell_type": "code",
   "execution_count": null,
   "metadata": {
    "collapsed": true
   },
   "outputs": [],
   "source": [
    "#############################################################################################################"
   ]
  },
  {
   "cell_type": "code",
   "execution_count": 42,
   "metadata": {},
   "outputs": [
    {
     "name": "stdout",
     "output_type": "stream",
     "text": [
      "Deep Neural Network - Loss: 0.1196103119331254, Accuracy: 0.973316330008407\n"
     ]
    }
   ],
   "source": [
    "# Evaluate accuracy of model\n",
    "model_loss, model_accuracy = model_2.evaluate(\n",
    "    X_test, y_test, verbose=2)\n",
    "print(f\"Deep Neural Network - Loss: {model_loss}, Accuracy: {model_accuracy}\")"
   ]
  },
  {
   "cell_type": "code",
   "execution_count": 41,
   "metadata": {},
   "outputs": [],
   "source": [
    "# SAVE MODEL\n",
    "# model_2.save(\"RMA_Model.h5\")"
   ]
  },
  {
   "cell_type": "code",
   "execution_count": 278,
   "metadata": {
    "collapsed": true
   },
   "outputs": [],
   "source": [
    "# SAVE TRANSFORMER\n",
    "# with open('transformer.pickle', 'wb') as handle:\n",
    "#     pickle.dump(transformer, handle, protocol=pickle.HIGHEST_PROTOCOL)"
   ]
  },
  {
   "cell_type": "code",
   "execution_count": 189,
   "metadata": {
    "collapsed": true
   },
   "outputs": [],
   "source": [
    "#Save empty dataframe for new points\n",
    "new_data = model_df.iloc[1]\n",
    "new_point = pd.DataFrame(new_data).rename(columns={1:\"Encoding\"})\n",
    "new_point.replace(1,0, inplace=True)\n",
    "new_point.replace(2389,0, inplace=True)\n",
    "\n",
    "# SAVE empty dataframe for new points\n",
    "new_point.to_csv('New_Point.csv')"
   ]
  },
  {
   "cell_type": "code",
   "execution_count": null,
   "metadata": {
    "collapsed": true
   },
   "outputs": [],
   "source": [
    "#############################################################################################################"
   ]
  },
  {
   "cell_type": "code",
   "execution_count": 274,
   "metadata": {},
   "outputs": [],
   "source": [
    "### FUNCTION TO TRANSFORM INPUT AND PREDICT NEW POINTS\n",
    "#Dependencies (Pandas, Keras.models (load_model), sklearn (random_projection))\n",
    "def RMA_point(product_id, item_age):\n",
    "    return transform_point(empty_point(product_id, item_age))\n",
    "\n",
    "def empty_point(product_id, item_age):\n",
    "    point = pd.read_csv('New_Point.csv')\n",
    "    point = point.set_index('Unnamed: 0')\n",
    "    point.loc['Lifespan(days)', \"Encoding\"] = item_age\n",
    "    point.loc[product_id, \"Encoding\"] = 1\n",
    "    input_point = point['Encoding'].reshape(-1,2353)\n",
    "    return input_point\n",
    "\n",
    "def transform_point(input_point):\n",
    "    file = open('transformer.pickle', 'rb')\n",
    "    xform = pickle.load(file)\n",
    "    file.close()\n",
    "    transformed_point = xform.transform(input_point)\n",
    "    model_2 = load_model(\"RMA_Model.h5\")\n",
    "    return(model_2.predict_classes(transformed_point)[0])"
   ]
  },
  {
   "cell_type": "markdown",
   "metadata": {},
   "source": [
    "# MAKING PREDICTIONS HERE"
   ]
  },
  {
   "cell_type": "code",
   "execution_count": 305,
   "metadata": {
    "scrolled": false
   },
   "outputs": [
    {
     "name": "stderr",
     "output_type": "stream",
     "text": [
      "/Users/yuh13/anaconda3/envs/PythonData/lib/python3.6/site-packages/ipykernel_launcher.py:11: FutureWarning: reshape is deprecated and will raise in a subsequent release. Please use .values.reshape(...) instead\n",
      "  # This is added back by InteractiveShellApp.init_path()\n"
     ]
    },
    {
     "data": {
      "text/plain": [
       "0"
      ]
     },
     "execution_count": 305,
     "metadata": {},
     "output_type": "execute_result"
    }
   ],
   "source": [
    "#Making random predictions!!!!\n",
    "RMA_point(\"XFP-10GE-SR\", 100)"
   ]
  },
  {
   "cell_type": "code",
   "execution_count": 314,
   "metadata": {},
   "outputs": [
    {
     "name": "stderr",
     "output_type": "stream",
     "text": [
      "/Users/yuh13/anaconda3/envs/PythonData/lib/python3.6/site-packages/ipykernel_launcher.py:11: FutureWarning: reshape is deprecated and will raise in a subsequent release. Please use .values.reshape(...) instead\n",
      "  # This is added back by InteractiveShellApp.init_path()\n"
     ]
    },
    {
     "data": {
      "text/plain": [
       "1"
      ]
     },
     "execution_count": 314,
     "metadata": {},
     "output_type": "execute_result"
    }
   ],
   "source": [
    "RMA_point(\"RE-400-768-R\", 1400)"
   ]
  },
  {
   "cell_type": "markdown",
   "metadata": {},
   "source": [
    "# IMPORTANT LIMITATIONS"
   ]
  },
  {
   "cell_type": "markdown",
   "metadata": {},
   "source": [
    "## input data must be be a certain age\n",
    "## product models with low representation in dataset should be assessed with caution"
   ]
  },
  {
   "cell_type": "markdown",
   "metadata": {},
   "source": [
    "### Note: \n",
    "Must consider way to use RMA_point() on full data_sets or CSV files\n",
    "For loop with RMA_point()???\n",
    "Data_set must have Product_ID and Item_Age\n",
    "Item_age = Today() - Ship_Date"
   ]
  }
 ],
 "metadata": {
  "kernelspec": {
   "display_name": "Python 3",
   "language": "python",
   "name": "python3"
  },
  "language_info": {
   "codemirror_mode": {
    "name": "ipython",
    "version": 3
   },
   "file_extension": ".py",
   "mimetype": "text/x-python",
   "name": "python",
   "nbconvert_exporter": "python",
   "pygments_lexer": "ipython3",
   "version": "3.6.3"
  }
 },
 "nbformat": 4,
 "nbformat_minor": 2
}
