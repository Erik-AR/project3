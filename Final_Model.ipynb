{
 "cells": [
  {
   "cell_type": "code",
   "execution_count": 5,
   "metadata": {},
   "outputs": [],
   "source": [
    "#Import dependencies\n",
    "import numpy as np\n",
    "import pandas as pd\n",
    "from sklearn.model_selection import train_test_split\n",
    "from sklearn.linear_model import LinearRegression\n",
    "from sklearn.metrics import mean_squared_error, r2_score\n",
    "from sklearn import random_projection\n",
    "\n",
    "#To perform Hot Encoding\n",
    "from sklearn.preprocessing import StandardScaler, LabelEncoder\n",
    "from keras.utils import to_categorical\n",
    "from keras.models import Sequential\n",
    "from keras.layers import Dense\n",
    "\n",
    "#To trasnform data\n",
    "from datetime import datetime as dt"
   ]
  },
  {
   "cell_type": "code",
   "execution_count": 6,
   "metadata": {},
   "outputs": [
    {
     "name": "stderr",
     "output_type": "stream",
     "text": [
      "/Users/yuh13/anaconda3/envs/PythonData/lib/python3.6/site-packages/IPython/core/interactiveshell.py:2698: DtypeWarning: Columns (2) have mixed types. Specify dtype option on import or set low_memory=False.\n",
      "  interactivity=interactivity, compiler=compiler, result=result)\n"
     ]
    },
    {
     "data": {
      "text/html": [
       "<div>\n",
       "<style>\n",
       "    .dataframe thead tr:only-child th {\n",
       "        text-align: right;\n",
       "    }\n",
       "\n",
       "    .dataframe thead th {\n",
       "        text-align: left;\n",
       "    }\n",
       "\n",
       "    .dataframe tbody tr th {\n",
       "        vertical-align: top;\n",
       "    }\n",
       "</style>\n",
       "<table border=\"1\" class=\"dataframe\">\n",
       "  <thead>\n",
       "    <tr style=\"text-align: right;\">\n",
       "      <th></th>\n",
       "      <th>Unnamed: 0</th>\n",
       "      <th>IB Material - Key</th>\n",
       "      <th>Installed At - Key</th>\n",
       "      <th>RMA Create Date</th>\n",
       "      <th>Defective</th>\n",
       "      <th>Serial Number</th>\n",
       "      <th>Shipped Day</th>\n",
       "      <th>Lifespan(days)</th>\n",
       "    </tr>\n",
       "  </thead>\n",
       "  <tbody>\n",
       "    <tr>\n",
       "      <th>0</th>\n",
       "      <td>0</td>\n",
       "      <td>81Y8237</td>\n",
       "      <td>100034495</td>\n",
       "      <td>3/20/2017</td>\n",
       "      <td>1</td>\n",
       "      <td>233G04B</td>\n",
       "      <td>10/12/2012</td>\n",
       "      <td>1620.0</td>\n",
       "    </tr>\n",
       "    <tr>\n",
       "      <th>1</th>\n",
       "      <td>1</td>\n",
       "      <td>81Y8349</td>\n",
       "      <td>101400565</td>\n",
       "      <td>1/31/2018</td>\n",
       "      <td>1</td>\n",
       "      <td>231S01X</td>\n",
       "      <td>7/18/2011</td>\n",
       "      <td>2389.0</td>\n",
       "    </tr>\n",
       "    <tr>\n",
       "      <th>2</th>\n",
       "      <td>2</td>\n",
       "      <td>95Y0510</td>\n",
       "      <td>101183390</td>\n",
       "      <td>4/12/2017</td>\n",
       "      <td>1</td>\n",
       "      <td>EM0711427457</td>\n",
       "      <td>10/29/2013</td>\n",
       "      <td>1261.0</td>\n",
       "    </tr>\n",
       "    <tr>\n",
       "      <th>3</th>\n",
       "      <td>3</td>\n",
       "      <td>95Y0510</td>\n",
       "      <td>101183390</td>\n",
       "      <td>4/27/2017</td>\n",
       "      <td>1</td>\n",
       "      <td>EM0711427505</td>\n",
       "      <td>12/13/2012</td>\n",
       "      <td>1596.0</td>\n",
       "    </tr>\n",
       "    <tr>\n",
       "      <th>4</th>\n",
       "      <td>4</td>\n",
       "      <td>95Y0510</td>\n",
       "      <td>101183390</td>\n",
       "      <td>4/27/2017</td>\n",
       "      <td>1</td>\n",
       "      <td>EM0711427426</td>\n",
       "      <td>12/13/2012</td>\n",
       "      <td>1596.0</td>\n",
       "    </tr>\n",
       "  </tbody>\n",
       "</table>\n",
       "</div>"
      ],
      "text/plain": [
       "   Unnamed: 0 IB Material - Key Installed At - Key RMA Create Date  Defective  \\\n",
       "0           0           81Y8237          100034495       3/20/2017          1   \n",
       "1           1           81Y8349          101400565       1/31/2018          1   \n",
       "2           2           95Y0510          101183390       4/12/2017          1   \n",
       "3           3           95Y0510          101183390       4/27/2017          1   \n",
       "4           4           95Y0510          101183390       4/27/2017          1   \n",
       "\n",
       "  Serial Number Shipped Day  Lifespan(days)  \n",
       "0       233G04B  10/12/2012          1620.0  \n",
       "1       231S01X   7/18/2011          2389.0  \n",
       "2  EM0711427457  10/29/2013          1261.0  \n",
       "3  EM0711427505  12/13/2012          1596.0  \n",
       "4  EM0711427426  12/13/2012          1596.0  "
      ]
     },
     "execution_count": 6,
     "metadata": {},
     "output_type": "execute_result"
    }
   ],
   "source": [
    "df = pd.read_csv('Model_Data.csv')\n",
    "df.head(5)\n"
   ]
  },
  {
   "cell_type": "code",
   "execution_count": 7,
   "metadata": {},
   "outputs": [
    {
     "name": "stdout",
     "output_type": "stream",
     "text": [
      "final dataframe shape:  (1408350, 5)\n"
     ]
    }
   ],
   "source": [
    "df = df.drop(['Serial Number', 'RMA Create Date', 'Shipped Day'], axis=1)\n",
    "df = df.dropna(subset=['Lifespan(days)'])\n",
    "print(\"final dataframe shape: \", df.shape)\n"
   ]
  },
  {
   "cell_type": "code",
   "execution_count": 8,
   "metadata": {},
   "outputs": [
    {
     "name": "stdout",
     "output_type": "stream",
     "text": [
      "dummy shape:  (1408350, 2353)\n"
     ]
    }
   ],
   "source": [
    "model_df = pd.get_dummies(df['IB Material - Key'], sparse=True)\n",
    "model_df['Lifespan(days)'] = df['Lifespan(days)']\n",
    "print(\"dummy shape: \", model_df.shape)"
   ]
  },
  {
   "cell_type": "code",
   "execution_count": 12,
   "metadata": {
    "collapsed": true
   },
   "outputs": [],
   "source": [
    "transformer = random_projection.GaussianRandomProjection(n_components=100)\n"
   ]
  },
  {
   "cell_type": "code",
   "execution_count": 13,
   "metadata": {},
   "outputs": [],
   "source": [
    "X_new = transformer.fit_transform(model_df)"
   ]
  },
  {
   "cell_type": "code",
   "execution_count": 15,
   "metadata": {
    "collapsed": true
   },
   "outputs": [],
   "source": [
    "y = df['Defective']\n"
   ]
  },
  {
   "cell_type": "code",
   "execution_count": 16,
   "metadata": {},
   "outputs": [
    {
     "data": {
      "text/plain": [
       "LinearRegression(copy_X=True, fit_intercept=True, n_jobs=1, normalize=False)"
      ]
     },
     "execution_count": 16,
     "metadata": {},
     "output_type": "execute_result"
    }
   ],
   "source": [
    "X_train, X_test, y_train, y_test = train_test_split(X_new, y, random_state=13)\n",
    "model = LinearRegression()\n",
    "model.fit(X_train, y_train)"
   ]
  },
  {
   "cell_type": "code",
   "execution_count": 17,
   "metadata": {},
   "outputs": [
    {
     "name": "stdout",
     "output_type": "stream",
     "text": [
      "Training Score: 0.28614260318826445\n",
      "Testing Score: 0.281903183188574\n"
     ]
    }
   ],
   "source": [
    "training_score = model.score(X_train, y_train)\n",
    "testing_score = model.score(X_test, y_test)\n",
    "\n",
    "print(f\"Training Score: {training_score}\")\n",
    "print(f\"Testing Score: {testing_score}\")"
   ]
  },
  {
   "cell_type": "code",
   "execution_count": 19,
   "metadata": {},
   "outputs": [
    {
     "data": {
      "text/plain": [
       "(1408350, 100)"
      ]
     },
     "execution_count": 19,
     "metadata": {},
     "output_type": "execute_result"
    }
   ],
   "source": [
    "X_new.shape"
   ]
  },
  {
   "cell_type": "code",
   "execution_count": 28,
   "metadata": {},
   "outputs": [
    {
     "data": {
      "text/plain": [
       "(1408350,)"
      ]
     },
     "execution_count": 28,
     "metadata": {},
     "output_type": "execute_result"
    }
   ],
   "source": [
    "y.shape"
   ]
  },
  {
   "cell_type": "code",
   "execution_count": 35,
   "metadata": {},
   "outputs": [
    {
     "name": "stdout",
     "output_type": "stream",
     "text": [
      "_________________________________________________________________\n",
      "Layer (type)                 Output Shape              Param #   \n",
      "=================================================================\n",
      "dense_11 (Dense)             (None, 4)                 404       \n",
      "_________________________________________________________________\n",
      "dense_12 (Dense)             (None, 100)               500       \n",
      "_________________________________________________________________\n",
      "dense_13 (Dense)             (None, 2)                 202       \n",
      "=================================================================\n",
      "Total params: 1,106\n",
      "Trainable params: 1,106\n",
      "Non-trainable params: 0\n",
      "_________________________________________________________________\n"
     ]
    }
   ],
   "source": [
    "\n",
    "model_2 = Sequential()\n",
    "number_inputs = 100\n",
    "number_hidden_nodes = 4\n",
    "number_classes = 2 \n",
    "model_2.add(Dense(units=number_hidden_nodes, activation='relu', input_dim=number_inputs))\n",
    "model_2.add(Dense(units=100, activation='relu'))\n",
    "model_2.add(Dense(units=number_classes, activation='softmax'))\n",
    "model_2.summary()"
   ]
  },
  {
   "cell_type": "code",
   "execution_count": 38,
   "metadata": {},
   "outputs": [],
   "source": [
    "model_2.compile(optimizer='adam',\n",
    "             loss = 'sparse_categorical_crossentropy',\n",
    "             metrics=['accuracy'])"
   ]
  },
  {
   "cell_type": "code",
   "execution_count": 39,
   "metadata": {},
   "outputs": [
    {
     "name": "stdout",
     "output_type": "stream",
     "text": [
      "Epoch 1/60\n",
      " - 28s - loss: 0.1379 - acc: 0.9686\n",
      "Epoch 2/60\n",
      " - 27s - loss: 0.1279 - acc: 0.9709\n",
      "Epoch 3/60\n",
      " - 28s - loss: 0.1258 - acc: 0.9715\n",
      "Epoch 4/60\n",
      " - 27s - loss: 0.1250 - acc: 0.9717\n",
      "Epoch 5/60\n",
      " - 28s - loss: 0.1246 - acc: 0.9718\n",
      "Epoch 6/60\n",
      " - 29s - loss: 0.1244 - acc: 0.9719\n",
      "Epoch 7/60\n",
      " - 29s - loss: 0.1240 - acc: 0.9720\n",
      "Epoch 8/60\n",
      " - 27s - loss: 0.1241 - acc: 0.9720\n",
      "Epoch 9/60\n",
      " - 26s - loss: 0.1236 - acc: 0.9721\n",
      "Epoch 10/60\n",
      " - 27s - loss: 0.1238 - acc: 0.9721\n",
      "Epoch 11/60\n",
      " - 27s - loss: 0.1233 - acc: 0.9723\n",
      "Epoch 12/60\n",
      " - 27s - loss: 0.1232 - acc: 0.9723\n",
      "Epoch 13/60\n",
      " - 27s - loss: 0.1231 - acc: 0.9723\n",
      "Epoch 14/60\n",
      " - 27s - loss: 0.1228 - acc: 0.9724\n",
      "Epoch 15/60\n",
      " - 29s - loss: 0.1229 - acc: 0.9724\n",
      "Epoch 16/60\n",
      " - 31s - loss: 0.1226 - acc: 0.9725\n",
      "Epoch 17/60\n",
      " - 29s - loss: 0.1229 - acc: 0.9724\n",
      "Epoch 18/60\n",
      " - 27s - loss: 0.1224 - acc: 0.9726\n",
      "Epoch 19/60\n",
      " - 27s - loss: 0.1221 - acc: 0.9726\n",
      "Epoch 20/60\n",
      " - 27s - loss: 0.1221 - acc: 0.9727\n",
      "Epoch 21/60\n",
      " - 28s - loss: 0.1219 - acc: 0.9727\n",
      "Epoch 22/60\n",
      " - 27s - loss: 0.1220 - acc: 0.9727\n",
      "Epoch 23/60\n",
      " - 28s - loss: 0.1220 - acc: 0.9727\n",
      "Epoch 24/60\n",
      " - 28s - loss: 0.1218 - acc: 0.9728\n",
      "Epoch 25/60\n",
      " - 28s - loss: 0.1217 - acc: 0.9728\n",
      "Epoch 26/60\n",
      " - 28s - loss: 0.1219 - acc: 0.9727\n",
      "Epoch 27/60\n",
      " - 29s - loss: 0.1215 - acc: 0.9729\n",
      "Epoch 28/60\n",
      " - 29s - loss: 0.1215 - acc: 0.9729\n",
      "Epoch 29/60\n",
      " - 28s - loss: 0.1217 - acc: 0.9728\n",
      "Epoch 30/60\n",
      " - 28s - loss: 0.1217 - acc: 0.9728\n",
      "Epoch 31/60\n",
      " - 27s - loss: 0.1214 - acc: 0.9729\n",
      "Epoch 32/60\n",
      " - 29s - loss: 0.1215 - acc: 0.9729\n",
      "Epoch 33/60\n",
      " - 28s - loss: 0.1216 - acc: 0.9728\n",
      "Epoch 34/60\n",
      " - 29s - loss: 0.1214 - acc: 0.9729\n",
      "Epoch 35/60\n",
      " - 28s - loss: 0.1213 - acc: 0.9729\n",
      "Epoch 36/60\n",
      " - 28s - loss: 0.1214 - acc: 0.9729\n",
      "Epoch 37/60\n",
      " - 28s - loss: 0.1212 - acc: 0.9730\n",
      "Epoch 38/60\n",
      " - 27s - loss: 0.1213 - acc: 0.9730\n",
      "Epoch 39/60\n",
      " - 27s - loss: 0.1212 - acc: 0.9730\n",
      "Epoch 40/60\n",
      " - 28s - loss: 0.1209 - acc: 0.9730\n",
      "Epoch 41/60\n",
      " - 28s - loss: 0.1211 - acc: 0.9730\n",
      "Epoch 42/60\n",
      " - 28s - loss: 0.1210 - acc: 0.9731\n",
      "Epoch 43/60\n",
      " - 28s - loss: 0.1212 - acc: 0.9730\n",
      "Epoch 44/60\n",
      " - 27s - loss: 0.1209 - acc: 0.9731\n",
      "Epoch 45/60\n",
      " - 28s - loss: 0.1209 - acc: 0.9731\n",
      "Epoch 46/60\n",
      " - 27s - loss: 0.1208 - acc: 0.9731\n",
      "Epoch 47/60\n",
      " - 27s - loss: 0.1209 - acc: 0.9731\n",
      "Epoch 48/60\n",
      " - 28s - loss: 0.1209 - acc: 0.9730\n",
      "Epoch 49/60\n",
      " - 27s - loss: 0.1209 - acc: 0.9731\n",
      "Epoch 50/60\n",
      " - 28s - loss: 0.1208 - acc: 0.9731\n",
      "Epoch 51/60\n",
      " - 28s - loss: 0.1207 - acc: 0.9731\n",
      "Epoch 52/60\n",
      " - 28s - loss: 0.1208 - acc: 0.9731\n",
      "Epoch 53/60\n",
      " - 27s - loss: 0.1207 - acc: 0.9732\n",
      "Epoch 54/60\n",
      " - 26s - loss: 0.1207 - acc: 0.9732\n",
      "Epoch 55/60\n",
      " - 27s - loss: 0.1207 - acc: 0.9731\n",
      "Epoch 56/60\n",
      " - 28s - loss: 0.1205 - acc: 0.9732\n",
      "Epoch 57/60\n",
      " - 28s - loss: 0.1208 - acc: 0.9731\n",
      "Epoch 58/60\n",
      " - 28s - loss: 0.1206 - acc: 0.9732\n",
      "Epoch 59/60\n",
      " - 28s - loss: 0.1207 - acc: 0.9731\n",
      "Epoch 60/60\n",
      " - 27s - loss: 0.1205 - acc: 0.9732\n"
     ]
    },
    {
     "data": {
      "text/plain": [
       "<keras.callbacks.History at 0x1a3f137160>"
      ]
     },
     "execution_count": 39,
     "metadata": {},
     "output_type": "execute_result"
    }
   ],
   "source": [
    "model_2.fit(X_train,\n",
    "         y_train,\n",
    "         epochs=60,\n",
    "         shuffle=True,\n",
    "         verbose=2)"
   ]
  },
  {
   "cell_type": "code",
   "execution_count": 42,
   "metadata": {},
   "outputs": [
    {
     "name": "stdout",
     "output_type": "stream",
     "text": [
      "Deep Neural Network - Loss: 0.1196103119331254, Accuracy: 0.973316330008407\n"
     ]
    }
   ],
   "source": [
    "model_loss, model_accuracy = model_2.evaluate(\n",
    "    X_test, y_test, verbose=2)\n",
    "print(f\"Deep Neural Network - Loss: {model_loss}, Accuracy: {model_accuracy}\")"
   ]
  },
  {
   "cell_type": "code",
   "execution_count": 41,
   "metadata": {},
   "outputs": [],
   "source": [
    "model_2.save(\"RMA_Model.h5\")"
   ]
  },
  {
   "cell_type": "code",
   "execution_count": 43,
   "metadata": {},
   "outputs": [
    {
     "data": {
      "text/plain": [
       "array([ 130.04839055, -179.8945108 ,  217.75512284,  164.18009332,\n",
       "        -75.16615295, -168.23520278, -154.17487793,   -3.42173998,\n",
       "         46.49726207, -203.70526882,  201.80740039,   70.03116477,\n",
       "         10.66524273, -259.94217517,  220.16440269,  111.25939213,\n",
       "        -90.47450757,  204.66502002,  171.55106624, -181.11677939,\n",
       "       -114.77412872,   51.68301902,  129.25554644, -150.31873479,\n",
       "        150.12681307, -319.52681038,  120.22701685, -128.49408975,\n",
       "         65.10170826,  125.17995104, -215.06188076,  -72.35549374,\n",
       "        353.89026557,  -79.1960382 ,  316.45716662, -162.39556551,\n",
       "        206.41284192,  249.61014695,  -70.60626088,   44.91097615,\n",
       "        439.69141167,  191.5919233 ,   45.9415328 , -105.83107911,\n",
       "        170.50584102,   44.9142488 ,  -86.08739579, -524.39494114,\n",
       "        150.77557185,  218.57275807,  261.83325552,  266.11241934,\n",
       "        119.51226489, -137.14098705,  -75.58218435, -211.97750862,\n",
       "       -101.45358187,   24.13362785,   98.1282133 ,  100.42616398,\n",
       "       -282.53974196,  -55.50569869,  236.3623805 ,  492.83496355,\n",
       "       -195.8861946 ,   85.90284035,   58.20002614, -107.63179712,\n",
       "        253.13419271,   -0.62641957,   11.96378235, -160.02382671,\n",
       "       -101.20146669,  -97.69033906, -117.81997488,  279.37420333,\n",
       "        244.95833163,    3.32957988, -115.82414908, -133.52645084,\n",
       "        432.7224307 ,  123.2548503 ,  -92.67919935, -379.10746216,\n",
       "         23.76532457,  122.34470838,   77.46224285, -320.3835744 ,\n",
       "        142.52399982, -169.21863066,  196.2308062 ,  204.35188661,\n",
       "         49.73274834,    8.38200056, -176.23531307, -220.46536836,\n",
       "         54.0150585 ,  135.40907389,   77.99338117,  182.97917814])"
      ]
     },
     "execution_count": 43,
     "metadata": {},
     "output_type": "execute_result"
    }
   ],
   "source": [
    "X_new[0]"
   ]
  },
  {
   "cell_type": "code",
   "execution_count": 45,
   "metadata": {},
   "outputs": [
    {
     "ename": "ValueError",
     "evalue": "Error when checking input: expected dense_11_input to have 2 dimensions, but got array with shape ()",
     "output_type": "error",
     "traceback": [
      "\u001b[0;31m---------------------------------------------------------------------------\u001b[0m",
      "\u001b[0;31mValueError\u001b[0m                                Traceback (most recent call last)",
      "\u001b[0;32m<ipython-input-45-50a8170ed5ee>\u001b[0m in \u001b[0;36m<module>\u001b[0;34m()\u001b[0m\n\u001b[0;32m----> 1\u001b[0;31m \u001b[0mmodel_2\u001b[0m\u001b[0;34m.\u001b[0m\u001b[0mpredict_classes\u001b[0m\u001b[0;34m(\u001b[0m\u001b[0mX_new\u001b[0m\u001b[0;34m[\u001b[0m\u001b[0;36m0\u001b[0m\u001b[0;34m]\u001b[0m\u001b[0;34m[\u001b[0m\u001b[0;36m0\u001b[0m\u001b[0;34m]\u001b[0m\u001b[0;34m)\u001b[0m\u001b[0;34m\u001b[0m\u001b[0m\n\u001b[0m",
      "\u001b[0;32m~/anaconda3/envs/PythonData/lib/python3.6/site-packages/keras/engine/sequential.py\u001b[0m in \u001b[0;36mpredict_classes\u001b[0;34m(self, x, batch_size, verbose)\u001b[0m\n\u001b[1;32m    270\u001b[0m             \u001b[0mA\u001b[0m \u001b[0mnumpy\u001b[0m \u001b[0marray\u001b[0m \u001b[0mof\u001b[0m \u001b[0;32mclass\u001b[0m \u001b[0mpredictions\u001b[0m\u001b[0;34m.\u001b[0m\u001b[0;34m\u001b[0m\u001b[0m\n\u001b[1;32m    271\u001b[0m         \"\"\"\n\u001b[0;32m--> 272\u001b[0;31m         \u001b[0mproba\u001b[0m \u001b[0;34m=\u001b[0m \u001b[0mself\u001b[0m\u001b[0;34m.\u001b[0m\u001b[0mpredict\u001b[0m\u001b[0;34m(\u001b[0m\u001b[0mx\u001b[0m\u001b[0;34m,\u001b[0m \u001b[0mbatch_size\u001b[0m\u001b[0;34m=\u001b[0m\u001b[0mbatch_size\u001b[0m\u001b[0;34m,\u001b[0m \u001b[0mverbose\u001b[0m\u001b[0;34m=\u001b[0m\u001b[0mverbose\u001b[0m\u001b[0;34m)\u001b[0m\u001b[0;34m\u001b[0m\u001b[0m\n\u001b[0m\u001b[1;32m    273\u001b[0m         \u001b[0;32mif\u001b[0m \u001b[0mproba\u001b[0m\u001b[0;34m.\u001b[0m\u001b[0mshape\u001b[0m\u001b[0;34m[\u001b[0m\u001b[0;34m-\u001b[0m\u001b[0;36m1\u001b[0m\u001b[0;34m]\u001b[0m \u001b[0;34m>\u001b[0m \u001b[0;36m1\u001b[0m\u001b[0;34m:\u001b[0m\u001b[0;34m\u001b[0m\u001b[0m\n\u001b[1;32m    274\u001b[0m             \u001b[0;32mreturn\u001b[0m \u001b[0mproba\u001b[0m\u001b[0;34m.\u001b[0m\u001b[0margmax\u001b[0m\u001b[0;34m(\u001b[0m\u001b[0maxis\u001b[0m\u001b[0;34m=\u001b[0m\u001b[0;34m-\u001b[0m\u001b[0;36m1\u001b[0m\u001b[0;34m)\u001b[0m\u001b[0;34m\u001b[0m\u001b[0m\n",
      "\u001b[0;32m~/anaconda3/envs/PythonData/lib/python3.6/site-packages/keras/engine/training.py\u001b[0m in \u001b[0;36mpredict\u001b[0;34m(self, x, batch_size, verbose, steps)\u001b[0m\n\u001b[1;32m   1150\u001b[0m                              'argument.')\n\u001b[1;32m   1151\u001b[0m         \u001b[0;31m# Validate user data.\u001b[0m\u001b[0;34m\u001b[0m\u001b[0;34m\u001b[0m\u001b[0m\n\u001b[0;32m-> 1152\u001b[0;31m         \u001b[0mx\u001b[0m\u001b[0;34m,\u001b[0m \u001b[0m_\u001b[0m\u001b[0;34m,\u001b[0m \u001b[0m_\u001b[0m \u001b[0;34m=\u001b[0m \u001b[0mself\u001b[0m\u001b[0;34m.\u001b[0m\u001b[0m_standardize_user_data\u001b[0m\u001b[0;34m(\u001b[0m\u001b[0mx\u001b[0m\u001b[0;34m)\u001b[0m\u001b[0;34m\u001b[0m\u001b[0m\n\u001b[0m\u001b[1;32m   1153\u001b[0m         \u001b[0;32mif\u001b[0m \u001b[0mself\u001b[0m\u001b[0;34m.\u001b[0m\u001b[0mstateful\u001b[0m\u001b[0;34m:\u001b[0m\u001b[0;34m\u001b[0m\u001b[0m\n\u001b[1;32m   1154\u001b[0m             \u001b[0;32mif\u001b[0m \u001b[0mx\u001b[0m\u001b[0;34m[\u001b[0m\u001b[0;36m0\u001b[0m\u001b[0;34m]\u001b[0m\u001b[0;34m.\u001b[0m\u001b[0mshape\u001b[0m\u001b[0;34m[\u001b[0m\u001b[0;36m0\u001b[0m\u001b[0;34m]\u001b[0m \u001b[0;34m>\u001b[0m \u001b[0mbatch_size\u001b[0m \u001b[0;32mand\u001b[0m \u001b[0mx\u001b[0m\u001b[0;34m[\u001b[0m\u001b[0;36m0\u001b[0m\u001b[0;34m]\u001b[0m\u001b[0;34m.\u001b[0m\u001b[0mshape\u001b[0m\u001b[0;34m[\u001b[0m\u001b[0;36m0\u001b[0m\u001b[0;34m]\u001b[0m \u001b[0;34m%\u001b[0m \u001b[0mbatch_size\u001b[0m \u001b[0;34m!=\u001b[0m \u001b[0;36m0\u001b[0m\u001b[0;34m:\u001b[0m\u001b[0;34m\u001b[0m\u001b[0m\n",
      "\u001b[0;32m~/anaconda3/envs/PythonData/lib/python3.6/site-packages/keras/engine/training.py\u001b[0m in \u001b[0;36m_standardize_user_data\u001b[0;34m(self, x, y, sample_weight, class_weight, check_array_lengths, batch_size)\u001b[0m\n\u001b[1;32m    752\u001b[0m             \u001b[0mfeed_input_shapes\u001b[0m\u001b[0;34m,\u001b[0m\u001b[0;34m\u001b[0m\u001b[0m\n\u001b[1;32m    753\u001b[0m             \u001b[0mcheck_batch_axis\u001b[0m\u001b[0;34m=\u001b[0m\u001b[0;32mFalse\u001b[0m\u001b[0;34m,\u001b[0m  \u001b[0;31m# Don't enforce the batch size.\u001b[0m\u001b[0;34m\u001b[0m\u001b[0m\n\u001b[0;32m--> 754\u001b[0;31m             exception_prefix='input')\n\u001b[0m\u001b[1;32m    755\u001b[0m \u001b[0;34m\u001b[0m\u001b[0m\n\u001b[1;32m    756\u001b[0m         \u001b[0;32mif\u001b[0m \u001b[0my\u001b[0m \u001b[0;32mis\u001b[0m \u001b[0;32mnot\u001b[0m \u001b[0;32mNone\u001b[0m\u001b[0;34m:\u001b[0m\u001b[0;34m\u001b[0m\u001b[0m\n",
      "\u001b[0;32m~/anaconda3/envs/PythonData/lib/python3.6/site-packages/keras/engine/training_utils.py\u001b[0m in \u001b[0;36mstandardize_input_data\u001b[0;34m(data, names, shapes, check_batch_axis, exception_prefix)\u001b[0m\n\u001b[1;32m    124\u001b[0m                         \u001b[0;34m': expected '\u001b[0m \u001b[0;34m+\u001b[0m \u001b[0mnames\u001b[0m\u001b[0;34m[\u001b[0m\u001b[0mi\u001b[0m\u001b[0;34m]\u001b[0m \u001b[0;34m+\u001b[0m \u001b[0;34m' to have '\u001b[0m \u001b[0;34m+\u001b[0m\u001b[0;34m\u001b[0m\u001b[0m\n\u001b[1;32m    125\u001b[0m                         \u001b[0mstr\u001b[0m\u001b[0;34m(\u001b[0m\u001b[0mlen\u001b[0m\u001b[0;34m(\u001b[0m\u001b[0mshape\u001b[0m\u001b[0;34m)\u001b[0m\u001b[0;34m)\u001b[0m \u001b[0;34m+\u001b[0m \u001b[0;34m' dimensions, but got array '\u001b[0m\u001b[0;34m\u001b[0m\u001b[0m\n\u001b[0;32m--> 126\u001b[0;31m                         'with shape ' + str(data_shape))\n\u001b[0m\u001b[1;32m    127\u001b[0m                 \u001b[0;32mif\u001b[0m \u001b[0;32mnot\u001b[0m \u001b[0mcheck_batch_axis\u001b[0m\u001b[0;34m:\u001b[0m\u001b[0;34m\u001b[0m\u001b[0m\n\u001b[1;32m    128\u001b[0m                     \u001b[0mdata_shape\u001b[0m \u001b[0;34m=\u001b[0m \u001b[0mdata_shape\u001b[0m\u001b[0;34m[\u001b[0m\u001b[0;36m1\u001b[0m\u001b[0;34m:\u001b[0m\u001b[0;34m]\u001b[0m\u001b[0;34m\u001b[0m\u001b[0m\n",
      "\u001b[0;31mValueError\u001b[0m: Error when checking input: expected dense_11_input to have 2 dimensions, but got array with shape ()"
     ]
    }
   ],
   "source": [
    "model_2.predict_classes(X_new[0][0])"
   ]
  },
  {
   "cell_type": "code",
   "execution_count": null,
   "metadata": {
    "collapsed": true
   },
   "outputs": [],
   "source": [
    "for x in range 2352:\n",
    "    "
   ]
  },
  {
   "cell_type": "code",
   "execution_count": 46,
   "metadata": {},
   "outputs": [
    {
     "data": {
      "text/plain": [
       "Index(['81Y8237', '81Y8349', '95Y0510', '95Y0512', 'ACX-MIC-16CHE1T1CE',\n",
       "       'ACX-MIC-6GE-CU-SFP', 'ACX-MIC4OC31OC12CE', 'ACX1000-DC', 'ACX1100-AC',\n",
       "       'ACX1100-DC',\n",
       "       ...\n",
       "       'XENPAK-1XGE-LR', 'XENPAK-1XGE-SR', 'XFP-10G-CBANDT50ZR',\n",
       "       'XFP-10G-E-OC192IR2', 'XFP-10G-L-OC192SR1', 'XFP-10G-S',\n",
       "       'XFP-10G-Z-OC192LR2', 'XFP-10GE-LR', 'XFP-10GE-SR', 'Lifespan(days)'],\n",
       "      dtype='object', length=2353)"
      ]
     },
     "execution_count": 46,
     "metadata": {},
     "output_type": "execute_result"
    }
   ],
   "source": [
    "model_df.columns\n"
   ]
  },
  {
   "cell_type": "code",
   "execution_count": null,
   "metadata": {
    "collapsed": true
   },
   "outputs": [],
   "source": []
  }
 ],
 "metadata": {
  "kernelspec": {
   "display_name": "Python 3",
   "language": "python",
   "name": "python3"
  },
  "language_info": {
   "codemirror_mode": {
    "name": "ipython",
    "version": 3
   },
   "file_extension": ".py",
   "mimetype": "text/x-python",
   "name": "python",
   "nbconvert_exporter": "python",
   "pygments_lexer": "ipython3",
   "version": "3.6.3"
  }
 },
 "nbformat": 4,
 "nbformat_minor": 2
}
