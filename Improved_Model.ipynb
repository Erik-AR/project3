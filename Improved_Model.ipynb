{
 "cells": [
  {
   "cell_type": "code",
   "execution_count": 6,
   "metadata": {},
   "outputs": [],
   "source": [
    "# Import dependencies\n",
    "import numpy as np\n",
    "import pandas as pd\n",
    "from sklearn.model_selection import train_test_split\n",
    "from sklearn.linear_model import LinearRegression\n",
    "from sklearn.metrics import mean_squared_error, r2_score\n",
    "from sklearn import random_projection\n",
    "\n",
    "# To perform Hot Encoding\n",
    "from sklearn.preprocessing import StandardScaler, LabelEncoder\n",
    "from keras.utils import to_categorical\n",
    "from keras.models import Sequential, load_model\n",
    "from keras.layers import Dense\n",
    "\n",
    "# To transform data\n",
    "from datetime import datetime as dt\n",
    "\n",
    "# To save transformer\n",
    "import pickle"
   ]
  },
  {
   "cell_type": "code",
   "execution_count": 7,
   "metadata": {},
   "outputs": [
    {
     "name": "stderr",
     "output_type": "stream",
     "text": [
      "/Users/yuh13/anaconda3/envs/PythonData/lib/python3.6/site-packages/IPython/core/interactiveshell.py:2698: DtypeWarning: Columns (2) have mixed types. Specify dtype option on import or set low_memory=False.\n",
      "  interactivity=interactivity, compiler=compiler, result=result)\n"
     ]
    },
    {
     "data": {
      "text/html": [
       "<div>\n",
       "<style>\n",
       "    .dataframe thead tr:only-child th {\n",
       "        text-align: right;\n",
       "    }\n",
       "\n",
       "    .dataframe thead th {\n",
       "        text-align: left;\n",
       "    }\n",
       "\n",
       "    .dataframe tbody tr th {\n",
       "        vertical-align: top;\n",
       "    }\n",
       "</style>\n",
       "<table border=\"1\" class=\"dataframe\">\n",
       "  <thead>\n",
       "    <tr style=\"text-align: right;\">\n",
       "      <th></th>\n",
       "      <th>Unnamed: 0</th>\n",
       "      <th>IB Material - Key</th>\n",
       "      <th>Installed At - Key</th>\n",
       "      <th>RMA Create Date</th>\n",
       "      <th>Defective</th>\n",
       "      <th>Serial Number</th>\n",
       "      <th>Shipped Day</th>\n",
       "      <th>Lifespan(days)</th>\n",
       "    </tr>\n",
       "  </thead>\n",
       "  <tbody>\n",
       "    <tr>\n",
       "      <th>0</th>\n",
       "      <td>0</td>\n",
       "      <td>81Y8237</td>\n",
       "      <td>100034495</td>\n",
       "      <td>3/20/2017</td>\n",
       "      <td>1</td>\n",
       "      <td>233G04B</td>\n",
       "      <td>10/12/2012</td>\n",
       "      <td>1620.0</td>\n",
       "    </tr>\n",
       "    <tr>\n",
       "      <th>1</th>\n",
       "      <td>1</td>\n",
       "      <td>81Y8349</td>\n",
       "      <td>101400565</td>\n",
       "      <td>1/31/2018</td>\n",
       "      <td>1</td>\n",
       "      <td>231S01X</td>\n",
       "      <td>7/18/2011</td>\n",
       "      <td>2389.0</td>\n",
       "    </tr>\n",
       "    <tr>\n",
       "      <th>2</th>\n",
       "      <td>2</td>\n",
       "      <td>95Y0510</td>\n",
       "      <td>101183390</td>\n",
       "      <td>4/12/2017</td>\n",
       "      <td>1</td>\n",
       "      <td>EM0711427457</td>\n",
       "      <td>10/29/2013</td>\n",
       "      <td>1261.0</td>\n",
       "    </tr>\n",
       "    <tr>\n",
       "      <th>3</th>\n",
       "      <td>3</td>\n",
       "      <td>95Y0510</td>\n",
       "      <td>101183390</td>\n",
       "      <td>4/27/2017</td>\n",
       "      <td>1</td>\n",
       "      <td>EM0711427505</td>\n",
       "      <td>12/13/2012</td>\n",
       "      <td>1596.0</td>\n",
       "    </tr>\n",
       "    <tr>\n",
       "      <th>4</th>\n",
       "      <td>4</td>\n",
       "      <td>95Y0510</td>\n",
       "      <td>101183390</td>\n",
       "      <td>4/27/2017</td>\n",
       "      <td>1</td>\n",
       "      <td>EM0711427426</td>\n",
       "      <td>12/13/2012</td>\n",
       "      <td>1596.0</td>\n",
       "    </tr>\n",
       "  </tbody>\n",
       "</table>\n",
       "</div>"
      ],
      "text/plain": [
       "   Unnamed: 0 IB Material - Key Installed At - Key RMA Create Date  Defective  \\\n",
       "0           0           81Y8237          100034495       3/20/2017          1   \n",
       "1           1           81Y8349          101400565       1/31/2018          1   \n",
       "2           2           95Y0510          101183390       4/12/2017          1   \n",
       "3           3           95Y0510          101183390       4/27/2017          1   \n",
       "4           4           95Y0510          101183390       4/27/2017          1   \n",
       "\n",
       "  Serial Number Shipped Day  Lifespan(days)  \n",
       "0       233G04B  10/12/2012          1620.0  \n",
       "1       231S01X   7/18/2011          2389.0  \n",
       "2  EM0711427457  10/29/2013          1261.0  \n",
       "3  EM0711427505  12/13/2012          1596.0  \n",
       "4  EM0711427426  12/13/2012          1596.0  "
      ]
     },
     "execution_count": 7,
     "metadata": {},
     "output_type": "execute_result"
    }
   ],
   "source": [
    "df = pd.read_csv('Model_Data.csv')\n",
    "df.head(5)"
   ]
  },
  {
   "cell_type": "code",
   "execution_count": 8,
   "metadata": {},
   "outputs": [
    {
     "name": "stdout",
     "output_type": "stream",
     "text": [
      "final dataframe shape:  (1408350, 5)\n"
     ]
    },
    {
     "data": {
      "text/html": [
       "<div>\n",
       "<style>\n",
       "    .dataframe thead tr:only-child th {\n",
       "        text-align: right;\n",
       "    }\n",
       "\n",
       "    .dataframe thead th {\n",
       "        text-align: left;\n",
       "    }\n",
       "\n",
       "    .dataframe tbody tr th {\n",
       "        vertical-align: top;\n",
       "    }\n",
       "</style>\n",
       "<table border=\"1\" class=\"dataframe\">\n",
       "  <thead>\n",
       "    <tr style=\"text-align: right;\">\n",
       "      <th></th>\n",
       "      <th>Unnamed: 0</th>\n",
       "      <th>IB Material - Key</th>\n",
       "      <th>Installed At - Key</th>\n",
       "      <th>Defective</th>\n",
       "      <th>Lifespan(days)</th>\n",
       "    </tr>\n",
       "  </thead>\n",
       "  <tbody>\n",
       "    <tr>\n",
       "      <th>0</th>\n",
       "      <td>0</td>\n",
       "      <td>81Y8237</td>\n",
       "      <td>100034495</td>\n",
       "      <td>1</td>\n",
       "      <td>1620.0</td>\n",
       "    </tr>\n",
       "    <tr>\n",
       "      <th>1</th>\n",
       "      <td>1</td>\n",
       "      <td>81Y8349</td>\n",
       "      <td>101400565</td>\n",
       "      <td>1</td>\n",
       "      <td>2389.0</td>\n",
       "    </tr>\n",
       "    <tr>\n",
       "      <th>2</th>\n",
       "      <td>2</td>\n",
       "      <td>95Y0510</td>\n",
       "      <td>101183390</td>\n",
       "      <td>1</td>\n",
       "      <td>1261.0</td>\n",
       "    </tr>\n",
       "    <tr>\n",
       "      <th>3</th>\n",
       "      <td>3</td>\n",
       "      <td>95Y0510</td>\n",
       "      <td>101183390</td>\n",
       "      <td>1</td>\n",
       "      <td>1596.0</td>\n",
       "    </tr>\n",
       "    <tr>\n",
       "      <th>4</th>\n",
       "      <td>4</td>\n",
       "      <td>95Y0510</td>\n",
       "      <td>101183390</td>\n",
       "      <td>1</td>\n",
       "      <td>1596.0</td>\n",
       "    </tr>\n",
       "  </tbody>\n",
       "</table>\n",
       "</div>"
      ],
      "text/plain": [
       "   Unnamed: 0 IB Material - Key Installed At - Key  Defective  Lifespan(days)\n",
       "0           0           81Y8237          100034495          1          1620.0\n",
       "1           1           81Y8349          101400565          1          2389.0\n",
       "2           2           95Y0510          101183390          1          1261.0\n",
       "3           3           95Y0510          101183390          1          1596.0\n",
       "4           4           95Y0510          101183390          1          1596.0"
      ]
     },
     "execution_count": 8,
     "metadata": {},
     "output_type": "execute_result"
    }
   ],
   "source": [
    "df = df.drop(['Serial Number', 'RMA Create Date', 'Shipped Day'], axis=1)\n",
    "df = df.dropna(subset=['Lifespan(days)'])\n",
    "print(\"final dataframe shape: \", df.shape)\n",
    "df.head(5)"
   ]
  },
  {
   "cell_type": "code",
   "execution_count": 17,
   "metadata": {
    "scrolled": false
   },
   "outputs": [],
   "source": [
    "import random\n",
    "\n",
    "proxy_materials = random.sample(list(df['IB Material - Key']), 100)\n"
   ]
  },
  {
   "cell_type": "code",
   "execution_count": 18,
   "metadata": {
    "collapsed": true
   },
   "outputs": [],
   "source": [
    "proxy_age = random.sample(list(df['Lifespan(days)']), 100)"
   ]
  },
  {
   "cell_type": "code",
   "execution_count": 23,
   "metadata": {},
   "outputs": [
    {
     "data": {
      "text/html": [
       "<div>\n",
       "<style>\n",
       "    .dataframe thead tr:only-child th {\n",
       "        text-align: right;\n",
       "    }\n",
       "\n",
       "    .dataframe thead th {\n",
       "        text-align: left;\n",
       "    }\n",
       "\n",
       "    .dataframe tbody tr th {\n",
       "        vertical-align: top;\n",
       "    }\n",
       "</style>\n",
       "<table border=\"1\" class=\"dataframe\">\n",
       "  <thead>\n",
       "    <tr style=\"text-align: right;\">\n",
       "      <th></th>\n",
       "      <th>IB Material - Key</th>\n",
       "      <th>Lifespan(days)</th>\n",
       "    </tr>\n",
       "  </thead>\n",
       "  <tbody>\n",
       "    <tr>\n",
       "      <th>0</th>\n",
       "      <td>SRX110H2-VA</td>\n",
       "      <td>922.0</td>\n",
       "    </tr>\n",
       "    <tr>\n",
       "      <th>1</th>\n",
       "      <td>EX3300-48P</td>\n",
       "      <td>138.0</td>\n",
       "    </tr>\n",
       "    <tr>\n",
       "      <th>2</th>\n",
       "      <td>SRX100H2</td>\n",
       "      <td>890.0</td>\n",
       "    </tr>\n",
       "    <tr>\n",
       "      <th>3</th>\n",
       "      <td>QFX5100-48S-3AFO</td>\n",
       "      <td>670.0</td>\n",
       "    </tr>\n",
       "    <tr>\n",
       "      <th>4</th>\n",
       "      <td>BT8A78CFP1G</td>\n",
       "      <td>286.0</td>\n",
       "    </tr>\n",
       "  </tbody>\n",
       "</table>\n",
       "</div>"
      ],
      "text/plain": [
       "  IB Material - Key  Lifespan(days)\n",
       "0       SRX110H2-VA           922.0\n",
       "1        EX3300-48P           138.0\n",
       "2          SRX100H2           890.0\n",
       "3  QFX5100-48S-3AFO           670.0\n",
       "4       BT8A78CFP1G           286.0"
      ]
     },
     "execution_count": 23,
     "metadata": {},
     "output_type": "execute_result"
    }
   ],
   "source": [
    "proxy = {'IB Material - Key': proxy_materials, 'Lifespan(days)': proxy_age}\n",
    "proxy_df = pd.DataFrame(proxy)\n",
    "proxy_df.head(5)"
   ]
  },
  {
   "cell_type": "code",
   "execution_count": 24,
   "metadata": {
    "collapsed": true
   },
   "outputs": [],
   "source": [
    "proxy_df.to_csv('proxy.csv')"
   ]
  },
  {
   "cell_type": "code",
   "execution_count": null,
   "metadata": {
    "collapsed": true
   },
   "outputs": [],
   "source": []
  }
 ],
 "metadata": {
  "kernelspec": {
   "display_name": "Python 3",
   "language": "python",
   "name": "python3"
  },
  "language_info": {
   "codemirror_mode": {
    "name": "ipython",
    "version": 3
   },
   "file_extension": ".py",
   "mimetype": "text/x-python",
   "name": "python",
   "nbconvert_exporter": "python",
   "pygments_lexer": "ipython3",
   "version": "3.6.3"
  }
 },
 "nbformat": 4,
 "nbformat_minor": 2
}
