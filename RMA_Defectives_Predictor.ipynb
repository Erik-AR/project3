{
 "cells": [
  {
   "cell_type": "markdown",
   "metadata": {},
   "source": [
    "# MAKING PREDICTIONS HERE"
   ]
  },
  {
   "cell_type": "code",
   "execution_count": 1,
   "metadata": {},
   "outputs": [
    {
     "name": "stderr",
     "output_type": "stream",
     "text": [
      "Using TensorFlow backend.\n"
     ]
    }
   ],
   "source": [
    "### RUN THIS FIRST \n",
    "# Import dependencies\n",
    "import numpy as np\n",
    "import pandas as pd\n",
    "\n",
    "\n",
    "# To create and fit model\n",
    "from sklearn.model_selection import train_test_split\n",
    "from sklearn import random_projection\n",
    "from keras.models import Sequential, load_model\n",
    "from keras.layers import Dense\n",
    "\n",
    "# To transform data\n",
    "from datetime import datetime as dt\n",
    "\n",
    "# To save transformer\n",
    "import pickle\n",
    "\n",
    "# Opens model, transformer, and data point formatting\n",
    "model_2 = load_model(\"RMA_Model.h5\")\n",
    "file = open('transformer.pickle', 'rb')\n",
    "xform = pickle.load(file)\n",
    "file.close()"
   ]
  },
  {
   "cell_type": "code",
   "execution_count": 2,
   "metadata": {
    "collapsed": true
   },
   "outputs": [],
   "source": [
    "### FUNCTION TO TRANSFORM INPUT AND PREDICT NEW POINTS\n",
    "#Dependencies (Pandas, Keras.models (load_model), sklearn (random_projection))\n",
    "def RMA_point(product_id, item_age):\n",
    "    result = transform_point(empty_point(product_id, item_age))\n",
    "    action = \" \"\n",
    "    if result == 1:\n",
    "        action = \"Replace defective\"\n",
    "    else:\n",
    "        action = \"No replacement\"\n",
    "    return action, product_id, result\n",
    "\n",
    "def transform_point(input_point):\n",
    "    transformed_point = xform.transform(input_point)\n",
    "    return(model_2.predict_classes(transformed_point)[0])\n",
    "\n",
    "def empty_point(product_id, item_age):\n",
    "    point = pd.read_csv('New_Point.csv')\n",
    "    point = point.set_index('Unnamed: 0')\n",
    "    point.loc['Lifespan(days)', \"Encoding\"] = item_age + 90\n",
    "    point.loc[product_id, \"Encoding\"] = 1\n",
    "    input_point = point['Encoding'].values.reshape(-1,2353)\n",
    "    return input_point\n",
    "\n"
   ]
  },
  {
   "cell_type": "code",
   "execution_count": 9,
   "metadata": {
    "collapsed": true
   },
   "outputs": [],
   "source": [
    "### FUNCTION TO PREDICT MULTIPLE POINTS FROM CSV FORMAT\n",
    "#Define function to count defectives in multiple point query\n",
    "def RMA_multiple(csv_name):\n",
    "    proxy_df = pd.read_csv(csv_name)\n",
    "    defectives = []\n",
    "    status = []\n",
    "    proxy_list = []\n",
    "\n",
    "    for row in proxy_df.index:\n",
    "        result = RMA_point(proxy_df.iloc[row][\"IB Material - Key\"], proxy_df.iloc[row]['Lifespan(days)'])\n",
    "        status.append(result[0])\n",
    "        defectives.append(result[2])\n",
    "\n",
    "    proxy_df['Status'] = status\n",
    "    proxy_df['Defectives'] = defectives\n",
    "    defective_count(proxy_df)\n",
    "    return(proxy_df, \"----\", proxy_list)\n",
    "\n",
    "def defective_count(proxy_df):\n",
    "\n",
    "    for each in proxy_df.index:\n",
    "        if proxy_df.iloc[each]['Status'] == 1:\n",
    "            proxy_list.append([proxy_df.iloc[each]['IB Material - Key'], proxy_df.iloc[each]['Status']])\n"
   ]
  },
  {
   "cell_type": "markdown",
   "metadata": {},
   "source": [
    "## Make Predictions HERE"
   ]
  },
  {
   "cell_type": "code",
   "execution_count": null,
   "metadata": {
    "collapsed": true
   },
   "outputs": [],
   "source": [
    "RMA_point()"
   ]
  },
  {
   "cell_type": "code",
   "execution_count": 12,
   "metadata": {},
   "outputs": [
    {
     "ename": "TypeError",
     "evalue": "RMA_multiple() missing 1 required positional argument: 'csv_name'",
     "output_type": "error",
     "traceback": [
      "\u001b[0;31m---------------------------------------------------------------------------\u001b[0m",
      "\u001b[0;31mTypeError\u001b[0m                                 Traceback (most recent call last)",
      "\u001b[0;32m<ipython-input-12-c9cf7e080e76>\u001b[0m in \u001b[0;36m<module>\u001b[0;34m()\u001b[0m\n\u001b[0;32m----> 1\u001b[0;31m \u001b[0mRMA_multiple\u001b[0m\u001b[0;34m(\u001b[0m\u001b[0;34m)\u001b[0m\u001b[0;34m\u001b[0m\u001b[0m\n\u001b[0m",
      "\u001b[0;31mTypeError\u001b[0m: RMA_multiple() missing 1 required positional argument: 'csv_name'"
     ]
    }
   ],
   "source": [
    "RMA_multiple()"
   ]
  },
  {
   "cell_type": "markdown",
   "metadata": {},
   "source": [
    "# EXAMPLES OF PREDICTIONS"
   ]
  },
  {
   "cell_type": "markdown",
   "metadata": {},
   "source": [
    "## Single Point Examples"
   ]
  },
  {
   "cell_type": "code",
   "execution_count": 4,
   "metadata": {
    "scrolled": false
   },
   "outputs": [
    {
     "data": {
      "text/plain": [
       "('No replacement', 'XFP-10GE-SR', 0)"
      ]
     },
     "execution_count": 4,
     "metadata": {},
     "output_type": "execute_result"
    }
   ],
   "source": [
    "#Making random example single point predictions!!!!\n",
    "RMA_point(\"XFP-10GE-SR\", 100)"
   ]
  },
  {
   "cell_type": "code",
   "execution_count": 5,
   "metadata": {
    "scrolled": false
   },
   "outputs": [
    {
     "data": {
      "text/plain": [
       "('Replace defective', 'RE-400-768-R', 1)"
      ]
     },
     "execution_count": 5,
     "metadata": {},
     "output_type": "execute_result"
    }
   ],
   "source": [
    "#Making random example single point predictions!!!!\n",
    "RMA_point(\"RE-400-768-R\", 1235)"
   ]
  },
  {
   "cell_type": "markdown",
   "metadata": {},
   "source": [
    "## Multiple Point Examples"
   ]
  },
  {
   "cell_type": "code",
   "execution_count": 8,
   "metadata": {
    "scrolled": false
   },
   "outputs": [
    {
     "data": {
      "text/plain": [
       "(   Unnamed: 0 IB Material - Key  Lifespan(days)             Status  Defectives\n",
       " 0           0       SRX110H2-VA           922.0  Replace defective           1\n",
       " 1           1        EX3300-48P           138.0     No replacement           0\n",
       " 2           2          SRX100H2           890.0     No replacement           0\n",
       " 3           3  QFX5100-48S-3AFO           670.0     No replacement           0,\n",
       " '----',\n",
       " [])"
      ]
     },
     "execution_count": 8,
     "metadata": {},
     "output_type": "execute_result"
    }
   ],
   "source": [
    "#Making Multiple Point Predictions (4 data points) !!!!\n",
    "RMA_multiple(\"proxy.csv\")"
   ]
  },
  {
   "cell_type": "markdown",
   "metadata": {},
   "source": [
    "# IMPORTANT LIMITATIONS"
   ]
  },
  {
   "cell_type": "markdown",
   "metadata": {},
   "source": [
    "## input data must be be a certain age\n",
    "## product models with low representation in dataset should be assessed with caution"
   ]
  },
  {
   "cell_type": "markdown",
   "metadata": {},
   "source": [
    "### Note: \n",
    "Must consider way to use RMA_point() on full data_sets or CSV files\n",
    "For loop with RMA_point()???\n",
    "Data_set must have Product_ID and Item_Age\n",
    "Item_age = Today() - Ship_Date"
   ]
  }
 ],
 "metadata": {
  "kernelspec": {
   "display_name": "Python 3",
   "language": "python",
   "name": "python3"
  },
  "language_info": {
   "codemirror_mode": {
    "name": "ipython",
    "version": 3
   },
   "file_extension": ".py",
   "mimetype": "text/x-python",
   "name": "python",
   "nbconvert_exporter": "python",
   "pygments_lexer": "ipython3",
   "version": "3.6.3"
  }
 },
 "nbformat": 4,
 "nbformat_minor": 2
}
